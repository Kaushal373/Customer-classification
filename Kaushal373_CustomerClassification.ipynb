{
 "cells": [
  {
   "cell_type": "markdown",
   "metadata": {},
   "source": [
    "<h1> <center>     Customer Classification -  High Net Worth or Low Net Worth </center> </h1> "
   ]
  },
  {
   "cell_type": "markdown",
   "metadata": {},
   "source": [
    "# AE Corp\n",
    "Company Introduction : Company is a retail banking institution.\n",
    "\n",
    "They are going to float a stock trading facility for their existing customers.\n",
    "The idea is to use data to classify whether a customer belongs to a high net worth or low net worth group.\n",
    "They will have to incentivize their customers to adopt their offerings.\n",
    "One way to incentivize is to offer discounts on the commission for trading transactions."
   ]
  },
  {
   "cell_type": "markdown",
   "metadata": {},
   "source": [
    "# Problem Statement:\n",
    "\n",
    "* Issue is that only about 10% of the customers do enough trades for earnings after discounts to be profitable. The company wants to figure out, which are those <b><u><i>10%</i></u></b> customers so that it can selectively offer them a discount."
   ]
  },
  {
   "cell_type": "markdown",
   "metadata": {},
   "source": [
    "# Data Description"
   ]
  },
  {
   "cell_type": "markdown",
   "metadata": {},
   "source": [
    "<table>\t\t\t\t\t\t\n",
    "<th>\tColumn Name\t</th>\t<th>\tDescription\t</th>\t\n",
    "<tr>\t<td>\tREF_NO\t</td>\t<td>\tReference Number of the customer.\t</td>\t</tr>\n",
    "<tr>\t<td>\tchildren\t</td>\t<td>\tNumber of children each customer has.\t</td>\t</tr>\n",
    "<tr>\t<td>\tAge_band\t</td>\t<td>\tAge Group to which the customer belongs.\t</td>\t</tr>\n",
    "<tr>\t<td>\tstatus\t</td>\t<td>\tMarital Status of the customer.\t</td>\t</tr>\n",
    "<tr>\t<td>\toccupation\t</td>\t<td>\tJob or profession of the customer.\t</td>\t</tr>\n",
    "<tr>\t<td>\toccupation_partner\t</td>\t<td>\tJob or profession of the customer's partner.\t</td>\t</tr>\n",
    "<tr>\t<td>\thome_status\t</td>\t<td>\tHome Status of the customers.\t</td>\t</tr>\n",
    "<tr>\t<td>\tfamily_income\t</td>\t<td>\tIncome Range of the customer's family.\t</td>\t</tr>\n",
    "<tr>\t<td>\tself_employed\t</td>\t<td>\tWhether self-employed or not.\t</td>\t</tr>\n",
    "<tr>\t<td>\tself_employed_partner\t</td>\t<td>\tWhether the partner self-employed or not.\t</td>\t</tr>\n",
    "<tr>\t<td>\tyear_last_moved\t</td>\t<td>\tMoving Year from the last location of the customer.\t</td>\t</tr>\n",
    "<tr>\t<td>\tTVarea\t</td>\t<td>\tTelevision Region of the customer.\t</td>\t</tr>\n",
    "<tr>\t<td>\tpost_code\t</td>\t<td>\tPostal Code of the customer.\t</td>\t</tr>\n",
    "<tr>\t<td>\tpost_area\t</td>\t<td>\tPostal Area of the customer.\t</td>\t</tr>\n",
    "<tr>\t<td>\tAverage_Credit_Card_Transaction\t</td>\t<td>\tAverage Credit Card Transaction per year by the customer.\t</td>\t</tr>\n",
    "<tr>\t<td>\tBalance_Transfer\t</td>\t<td>\tTransfer of the Balance in an account to another account by the customer.\t</td>\t</tr>\n",
    "<tr>\t<td>\tTerm_Deposit\t</td>\t<td>\tCash Investment Help at Financial Institute provided to the customer.\t</td>\t</tr>\n",
    "<tr>\t<td>\tLife_Insurance\t</td>\t<td>\tBasic Life Insurance Coverage of the customer.\t</td>\t</tr>\n",
    "<tr>\t<td>\tMedical_Insurance\t</td>\t<td>\tMedical Insurance Coverage of the customer.\t</td>\t</tr>\n",
    "<tr>\t<td>\tAverage_A/C_Balance\t</td>\t<td>\tAverage Balance in the account of the customer.\t</td>\t</tr>\n",
    "<tr>\t<td>\tPersonal_Loan\t</td>\t<td>\tAmount of Personal Loan taken by the customer.\t</td>\t</tr>\n",
    "<tr>\t<td>\tInvestment_in_Mutual_Fund\t</td>\t<td>\tAmount Invested in Mutual Funds by the customer.\t</td>\t</tr>\n",
    "<tr>\t<td>\tInvestment_Tax_Saving_Bond\t</td>\t<td>\tAmount Invested in Tax Saving Bond by the customer.\t</td>\t</tr>\n",
    "<tr>\t<td>\tHome_Loan\t</td>\t<td>\tAmount of Home Loan taken by the customer.\t</td>\t</tr>\n",
    "<tr>\t<td>\tOnline_Purchase_Amount\t</td>\t<td>\tAmount spent by the customer on online purchases.\t</td>\t</tr>\n",
    "<tr>\t<td>\tgender\t</td>\t<td>\tGender of the customer.\t</td>\t</tr>\n",
    "<tr>\t<td>\tregion\t</td>\t<td>\tReligion of the customer.\t</td>\t</tr>\n",
    "<tr>\t<td>\tInvestment_in_Commudity\t</td>\t<td>\tAmount Invested in Commodity by the customer.\t</td>\t</tr>\n",
    "<tr>\t<td>\tInvestment_in_Equity\t</td>\t<td>\tAmount Invested in Equity by the customer.\t</td>\t</tr>\n",
    "<tr>\t<td>\tInvestment_in_Derivative\t</td>\t<td>\tAmount Invested in Derivatives by the customer.\t</td>\t</tr>\n",
    "<tr>\t<td>\tPortfolio_Balance\t</td>\t<td>\tBalanced Investment Strategy of the customer.\t</td>\t</tr>\n",
    "<tr>\t<td>\tRevenue_Grid\t</td>\t<td>\tGrid report of the customers.\t</td>\t</tr>\n",
    "</table>"
   ]
  },
  {
   "cell_type": "markdown",
   "metadata": {},
   "source": [
    "# Importing the Libraries"
   ]
  },
  {
   "cell_type": "code",
   "execution_count": 1,
   "metadata": {},
   "outputs": [],
   "source": [
    "import pandas as pd\n",
    "import numpy as np\n",
    "import matplotlib.pyplot as plt\n",
    "%matplotlib inline\n",
    "import seaborn as sns\n",
    "import warnings\n",
    "warnings.filterwarnings('ignore')"
   ]
  },
  {
   "cell_type": "code",
   "execution_count": 2,
   "metadata": {},
   "outputs": [
    {
     "data": {
      "text/plain": [
       "(8124, 32)"
      ]
     },
     "execution_count": 2,
     "metadata": {},
     "output_type": "execute_result"
    }
   ],
   "source": [
    "train_data = pd.read_csv('existing_base_train.csv')\n",
    "train_data.shape"
   ]
  },
  {
   "cell_type": "code",
   "execution_count": 3,
   "metadata": {},
   "outputs": [
    {
     "data": {
      "text/plain": [
       "(2031, 31)"
      ]
     },
     "execution_count": 3,
     "metadata": {},
     "output_type": "execute_result"
    }
   ],
   "source": [
    "test_data = pd.read_csv('existing_base_test.csv')\n",
    "test_data.shape"
   ]
  },
  {
   "cell_type": "code",
   "execution_count": 4,
   "metadata": {},
   "outputs": [
    {
     "data": {
      "text/plain": [
       "2    89.414082\n",
       "1    10.585918\n",
       "Name: Revenue_Grid, dtype: float64"
      ]
     },
     "execution_count": 4,
     "metadata": {},
     "output_type": "execute_result"
    }
   ],
   "source": [
    "train_data.Revenue_Grid.value_counts()/len(train_data)*100                  "
   ]
  },
  {
   "cell_type": "code",
   "execution_count": 5,
   "metadata": {},
   "outputs": [
    {
     "data": {
      "text/plain": [
       "18"
      ]
     },
     "execution_count": 5,
     "metadata": {},
     "output_type": "execute_result"
    }
   ],
   "source": [
    "len(train_data.describe().columns) "
   ]
  },
  {
   "cell_type": "code",
   "execution_count": 6,
   "metadata": {},
   "outputs": [
    {
     "data": {
      "text/html": [
       "<div>\n",
       "<style scoped>\n",
       "    .dataframe tbody tr th:only-of-type {\n",
       "        vertical-align: middle;\n",
       "    }\n",
       "\n",
       "    .dataframe tbody tr th {\n",
       "        vertical-align: top;\n",
       "    }\n",
       "\n",
       "    .dataframe thead th {\n",
       "        text-align: right;\n",
       "    }\n",
       "</style>\n",
       "<table border=\"1\" class=\"dataframe\">\n",
       "  <thead>\n",
       "    <tr style=\"text-align: right;\">\n",
       "      <th></th>\n",
       "      <th>REF_NO</th>\n",
       "      <th>children</th>\n",
       "      <th>age_band</th>\n",
       "      <th>status</th>\n",
       "      <th>occupation</th>\n",
       "      <th>occupation_partner</th>\n",
       "      <th>home_status</th>\n",
       "      <th>family_income</th>\n",
       "      <th>self_employed</th>\n",
       "      <th>self_employed_partner</th>\n",
       "      <th>...</th>\n",
       "      <th>Investment_Tax_Saving_Bond</th>\n",
       "      <th>Home_Loan</th>\n",
       "      <th>Online_Purchase_Amount</th>\n",
       "      <th>gender</th>\n",
       "      <th>region</th>\n",
       "      <th>Investment_in_Commudity</th>\n",
       "      <th>Investment_in_Equity</th>\n",
       "      <th>Investment_in_Derivative</th>\n",
       "      <th>Portfolio_Balance</th>\n",
       "      <th>Revenue_Grid</th>\n",
       "    </tr>\n",
       "  </thead>\n",
       "  <tbody>\n",
       "    <tr>\n",
       "      <th>0</th>\n",
       "      <td>5466</td>\n",
       "      <td>2</td>\n",
       "      <td>31-35</td>\n",
       "      <td>Partner</td>\n",
       "      <td>Professional</td>\n",
       "      <td>Professional</td>\n",
       "      <td>Own Home</td>\n",
       "      <td>&gt;=35,000</td>\n",
       "      <td>No</td>\n",
       "      <td>No</td>\n",
       "      <td>...</td>\n",
       "      <td>8.98</td>\n",
       "      <td>55.44</td>\n",
       "      <td>7.68</td>\n",
       "      <td>Female</td>\n",
       "      <td>North West</td>\n",
       "      <td>151.55</td>\n",
       "      <td>81.79</td>\n",
       "      <td>136.02</td>\n",
       "      <td>360.37</td>\n",
       "      <td>2</td>\n",
       "    </tr>\n",
       "    <tr>\n",
       "      <th>1</th>\n",
       "      <td>9091</td>\n",
       "      <td>Zero</td>\n",
       "      <td>45-50</td>\n",
       "      <td>Partner</td>\n",
       "      <td>Secretarial/Admin</td>\n",
       "      <td>Professional</td>\n",
       "      <td>Own Home</td>\n",
       "      <td>&gt;=35,000</td>\n",
       "      <td>No</td>\n",
       "      <td>No</td>\n",
       "      <td>...</td>\n",
       "      <td>0.00</td>\n",
       "      <td>0.00</td>\n",
       "      <td>18.99</td>\n",
       "      <td>Female</td>\n",
       "      <td>North West</td>\n",
       "      <td>44.28</td>\n",
       "      <td>13.91</td>\n",
       "      <td>29.23</td>\n",
       "      <td>89.22</td>\n",
       "      <td>2</td>\n",
       "    </tr>\n",
       "    <tr>\n",
       "      <th>2</th>\n",
       "      <td>9744</td>\n",
       "      <td>1</td>\n",
       "      <td>36-40</td>\n",
       "      <td>Partner</td>\n",
       "      <td>Manual Worker</td>\n",
       "      <td>Manual Worker</td>\n",
       "      <td>Rent Privately</td>\n",
       "      <td>&lt;22,500, &gt;=20,000</td>\n",
       "      <td>Yes</td>\n",
       "      <td>Yes</td>\n",
       "      <td>...</td>\n",
       "      <td>0.00</td>\n",
       "      <td>0.00</td>\n",
       "      <td>0.00</td>\n",
       "      <td>Female</td>\n",
       "      <td>South West</td>\n",
       "      <td>8.58</td>\n",
       "      <td>1.75</td>\n",
       "      <td>4.82</td>\n",
       "      <td>14.50</td>\n",
       "      <td>2</td>\n",
       "    </tr>\n",
       "    <tr>\n",
       "      <th>3</th>\n",
       "      <td>10700</td>\n",
       "      <td>2</td>\n",
       "      <td>31-35</td>\n",
       "      <td>Partner</td>\n",
       "      <td>Manual Worker</td>\n",
       "      <td>Manual Worker</td>\n",
       "      <td>Own Home</td>\n",
       "      <td>&lt;25,000, &gt;=22,500</td>\n",
       "      <td>No</td>\n",
       "      <td>No</td>\n",
       "      <td>...</td>\n",
       "      <td>0.00</td>\n",
       "      <td>0.00</td>\n",
       "      <td>0.00</td>\n",
       "      <td>Female</td>\n",
       "      <td>Scotland</td>\n",
       "      <td>15.00</td>\n",
       "      <td>0.00</td>\n",
       "      <td>5.00</td>\n",
       "      <td>68.98</td>\n",
       "      <td>2</td>\n",
       "    </tr>\n",
       "    <tr>\n",
       "      <th>4</th>\n",
       "      <td>1987</td>\n",
       "      <td>Zero</td>\n",
       "      <td>55-60</td>\n",
       "      <td>Partner</td>\n",
       "      <td>Housewife</td>\n",
       "      <td>Professional</td>\n",
       "      <td>Own Home</td>\n",
       "      <td>&gt;=35,000</td>\n",
       "      <td>No</td>\n",
       "      <td>No</td>\n",
       "      <td>...</td>\n",
       "      <td>0.00</td>\n",
       "      <td>0.00</td>\n",
       "      <td>0.00</td>\n",
       "      <td>Female</td>\n",
       "      <td>Unknown</td>\n",
       "      <td>0.00</td>\n",
       "      <td>1.66</td>\n",
       "      <td>1.66</td>\n",
       "      <td>1.88</td>\n",
       "      <td>2</td>\n",
       "    </tr>\n",
       "  </tbody>\n",
       "</table>\n",
       "<p>5 rows × 32 columns</p>\n",
       "</div>"
      ],
      "text/plain": [
       "   REF_NO children age_band   status         occupation occupation_partner  \\\n",
       "0    5466        2    31-35  Partner       Professional       Professional   \n",
       "1    9091     Zero    45-50  Partner  Secretarial/Admin       Professional   \n",
       "2    9744        1    36-40  Partner      Manual Worker      Manual Worker   \n",
       "3   10700        2    31-35  Partner      Manual Worker      Manual Worker   \n",
       "4    1987     Zero    55-60  Partner          Housewife       Professional   \n",
       "\n",
       "      home_status      family_income self_employed self_employed_partner  ...  \\\n",
       "0        Own Home           >=35,000            No                    No  ...   \n",
       "1        Own Home           >=35,000            No                    No  ...   \n",
       "2  Rent Privately  <22,500, >=20,000           Yes                   Yes  ...   \n",
       "3        Own Home  <25,000, >=22,500            No                    No  ...   \n",
       "4        Own Home           >=35,000            No                    No  ...   \n",
       "\n",
       "   Investment_Tax_Saving_Bond Home_Loan Online_Purchase_Amount  gender  \\\n",
       "0                        8.98     55.44                   7.68  Female   \n",
       "1                        0.00      0.00                  18.99  Female   \n",
       "2                        0.00      0.00                   0.00  Female   \n",
       "3                        0.00      0.00                   0.00  Female   \n",
       "4                        0.00      0.00                   0.00  Female   \n",
       "\n",
       "       region  Investment_in_Commudity  Investment_in_Equity  \\\n",
       "0  North West                   151.55                 81.79   \n",
       "1  North West                    44.28                 13.91   \n",
       "2  South West                     8.58                  1.75   \n",
       "3    Scotland                    15.00                  0.00   \n",
       "4     Unknown                     0.00                  1.66   \n",
       "\n",
       "   Investment_in_Derivative  Portfolio_Balance  Revenue_Grid  \n",
       "0                    136.02             360.37             2  \n",
       "1                     29.23              89.22             2  \n",
       "2                      4.82              14.50             2  \n",
       "3                      5.00              68.98             2  \n",
       "4                      1.66               1.88             2  \n",
       "\n",
       "[5 rows x 32 columns]"
      ]
     },
     "execution_count": 6,
     "metadata": {},
     "output_type": "execute_result"
    }
   ],
   "source": [
    "train_data.head()"
   ]
  },
  {
   "cell_type": "code",
   "execution_count": 7,
   "metadata": {},
   "outputs": [
    {
     "name": "stdout",
     "output_type": "stream",
     "text": [
      "<class 'pandas.core.frame.DataFrame'>\n",
      "RangeIndex: 8124 entries, 0 to 8123\n",
      "Data columns (total 32 columns):\n",
      " #   Column                           Non-Null Count  Dtype  \n",
      "---  ------                           --------------  -----  \n",
      " 0   REF_NO                           8124 non-null   int64  \n",
      " 1   children                         8124 non-null   object \n",
      " 2   age_band                         8124 non-null   object \n",
      " 3   status                           8124 non-null   object \n",
      " 4   occupation                       8124 non-null   object \n",
      " 5   occupation_partner               8124 non-null   object \n",
      " 6   home_status                      8124 non-null   object \n",
      " 7   family_income                    8124 non-null   object \n",
      " 8   self_employed                    8124 non-null   object \n",
      " 9   self_employed_partner            8124 non-null   object \n",
      " 10  year_last_moved                  8124 non-null   int64  \n",
      " 11  TVarea                           8124 non-null   object \n",
      " 12  post_code                        8124 non-null   object \n",
      " 13  post_area                        8124 non-null   object \n",
      " 14  Average_Credit_Card_Transaction  8124 non-null   float64\n",
      " 15  Balance_Transfer                 8124 non-null   float64\n",
      " 16  Term_Deposit                     8124 non-null   float64\n",
      " 17  Life_Insurance                   8124 non-null   float64\n",
      " 18  Medical_Insurance                8124 non-null   float64\n",
      " 19  Average_A/C_Balance              8124 non-null   float64\n",
      " 20  Personal_Loan                    8124 non-null   float64\n",
      " 21  Investment_in_Mutual_Fund        8124 non-null   float64\n",
      " 22  Investment_Tax_Saving_Bond       8124 non-null   float64\n",
      " 23  Home_Loan                        8124 non-null   float64\n",
      " 24  Online_Purchase_Amount           8124 non-null   float64\n",
      " 25  gender                           8124 non-null   object \n",
      " 26  region                           8124 non-null   object \n",
      " 27  Investment_in_Commudity          8124 non-null   float64\n",
      " 28  Investment_in_Equity             8124 non-null   float64\n",
      " 29  Investment_in_Derivative         8124 non-null   float64\n",
      " 30  Portfolio_Balance                8124 non-null   float64\n",
      " 31  Revenue_Grid                     8124 non-null   int64  \n",
      "dtypes: float64(15), int64(3), object(14)\n",
      "memory usage: 2.0+ MB\n"
     ]
    }
   ],
   "source": [
    "train_data.info()"
   ]
  },
  {
   "cell_type": "code",
   "execution_count": 8,
   "metadata": {},
   "outputs": [
    {
     "data": {
      "text/html": [
       "<div>\n",
       "<style scoped>\n",
       "    .dataframe tbody tr th:only-of-type {\n",
       "        vertical-align: middle;\n",
       "    }\n",
       "\n",
       "    .dataframe tbody tr th {\n",
       "        vertical-align: top;\n",
       "    }\n",
       "\n",
       "    .dataframe thead th {\n",
       "        text-align: right;\n",
       "    }\n",
       "</style>\n",
       "<table border=\"1\" class=\"dataframe\">\n",
       "  <thead>\n",
       "    <tr style=\"text-align: right;\">\n",
       "      <th></th>\n",
       "      <th>count</th>\n",
       "      <th>mean</th>\n",
       "      <th>std</th>\n",
       "      <th>min</th>\n",
       "      <th>25%</th>\n",
       "      <th>50%</th>\n",
       "      <th>75%</th>\n",
       "      <th>max</th>\n",
       "    </tr>\n",
       "  </thead>\n",
       "  <tbody>\n",
       "    <tr>\n",
       "      <th>REF_NO</th>\n",
       "      <td>8124.0</td>\n",
       "      <td>5797.343304</td>\n",
       "      <td>3322.497568</td>\n",
       "      <td>2.00</td>\n",
       "      <td>2924.7500</td>\n",
       "      <td>5811.500</td>\n",
       "      <td>8681.5000</td>\n",
       "      <td>11518.00</td>\n",
       "    </tr>\n",
       "    <tr>\n",
       "      <th>year_last_moved</th>\n",
       "      <td>8124.0</td>\n",
       "      <td>1967.876908</td>\n",
       "      <td>182.563785</td>\n",
       "      <td>0.00</td>\n",
       "      <td>1978.0000</td>\n",
       "      <td>1988.000</td>\n",
       "      <td>1994.0000</td>\n",
       "      <td>1999.00</td>\n",
       "    </tr>\n",
       "    <tr>\n",
       "      <th>Average_Credit_Card_Transaction</th>\n",
       "      <td>8124.0</td>\n",
       "      <td>23.251094</td>\n",
       "      <td>51.147496</td>\n",
       "      <td>0.00</td>\n",
       "      <td>0.0000</td>\n",
       "      <td>0.000</td>\n",
       "      <td>23.4800</td>\n",
       "      <td>662.26</td>\n",
       "    </tr>\n",
       "    <tr>\n",
       "      <th>Balance_Transfer</th>\n",
       "      <td>8124.0</td>\n",
       "      <td>46.082922</td>\n",
       "      <td>79.084692</td>\n",
       "      <td>0.00</td>\n",
       "      <td>0.0000</td>\n",
       "      <td>17.485</td>\n",
       "      <td>64.9900</td>\n",
       "      <td>2951.76</td>\n",
       "    </tr>\n",
       "    <tr>\n",
       "      <th>Term_Deposit</th>\n",
       "      <td>8124.0</td>\n",
       "      <td>27.284649</td>\n",
       "      <td>54.133537</td>\n",
       "      <td>0.00</td>\n",
       "      <td>0.0000</td>\n",
       "      <td>0.000</td>\n",
       "      <td>34.4900</td>\n",
       "      <td>784.82</td>\n",
       "    </tr>\n",
       "    <tr>\n",
       "      <th>Life_Insurance</th>\n",
       "      <td>8124.0</td>\n",
       "      <td>65.317939</td>\n",
       "      <td>95.762451</td>\n",
       "      <td>0.00</td>\n",
       "      <td>0.0000</td>\n",
       "      <td>31.475</td>\n",
       "      <td>92.8875</td>\n",
       "      <td>2930.41</td>\n",
       "    </tr>\n",
       "    <tr>\n",
       "      <th>Medical_Insurance</th>\n",
       "      <td>8124.0</td>\n",
       "      <td>18.826195</td>\n",
       "      <td>32.022332</td>\n",
       "      <td>0.00</td>\n",
       "      <td>0.0000</td>\n",
       "      <td>0.010</td>\n",
       "      <td>26.9700</td>\n",
       "      <td>591.04</td>\n",
       "    </tr>\n",
       "    <tr>\n",
       "      <th>Average_A/C_Balance</th>\n",
       "      <td>8124.0</td>\n",
       "      <td>31.838023</td>\n",
       "      <td>45.249440</td>\n",
       "      <td>0.00</td>\n",
       "      <td>0.0000</td>\n",
       "      <td>14.980</td>\n",
       "      <td>45.9225</td>\n",
       "      <td>626.24</td>\n",
       "    </tr>\n",
       "    <tr>\n",
       "      <th>Personal_Loan</th>\n",
       "      <td>8124.0</td>\n",
       "      <td>25.415830</td>\n",
       "      <td>85.130150</td>\n",
       "      <td>0.00</td>\n",
       "      <td>0.0000</td>\n",
       "      <td>0.000</td>\n",
       "      <td>20.8275</td>\n",
       "      <td>4905.93</td>\n",
       "    </tr>\n",
       "    <tr>\n",
       "      <th>Investment_in_Mutual_Fund</th>\n",
       "      <td>8124.0</td>\n",
       "      <td>41.723628</td>\n",
       "      <td>64.416023</td>\n",
       "      <td>0.00</td>\n",
       "      <td>0.0000</td>\n",
       "      <td>23.480</td>\n",
       "      <td>59.4400</td>\n",
       "      <td>2561.27</td>\n",
       "    </tr>\n",
       "    <tr>\n",
       "      <th>Investment_Tax_Saving_Bond</th>\n",
       "      <td>8124.0</td>\n",
       "      <td>6.057246</td>\n",
       "      <td>12.673374</td>\n",
       "      <td>0.00</td>\n",
       "      <td>0.0000</td>\n",
       "      <td>0.000</td>\n",
       "      <td>5.4900</td>\n",
       "      <td>156.87</td>\n",
       "    </tr>\n",
       "    <tr>\n",
       "      <th>Home_Loan</th>\n",
       "      <td>8124.0</td>\n",
       "      <td>4.416914</td>\n",
       "      <td>9.945747</td>\n",
       "      <td>0.00</td>\n",
       "      <td>0.0000</td>\n",
       "      <td>0.000</td>\n",
       "      <td>4.4900</td>\n",
       "      <td>162.35</td>\n",
       "    </tr>\n",
       "    <tr>\n",
       "      <th>Online_Purchase_Amount</th>\n",
       "      <td>8124.0</td>\n",
       "      <td>19.198658</td>\n",
       "      <td>92.343126</td>\n",
       "      <td>0.00</td>\n",
       "      <td>0.0000</td>\n",
       "      <td>0.000</td>\n",
       "      <td>7.4800</td>\n",
       "      <td>4306.42</td>\n",
       "    </tr>\n",
       "    <tr>\n",
       "      <th>Investment_in_Commudity</th>\n",
       "      <td>8124.0</td>\n",
       "      <td>36.152749</td>\n",
       "      <td>42.474953</td>\n",
       "      <td>0.00</td>\n",
       "      <td>8.2825</td>\n",
       "      <td>23.590</td>\n",
       "      <td>49.7950</td>\n",
       "      <td>1231.09</td>\n",
       "    </tr>\n",
       "    <tr>\n",
       "      <th>Investment_in_Equity</th>\n",
       "      <td>8124.0</td>\n",
       "      <td>21.442475</td>\n",
       "      <td>32.261660</td>\n",
       "      <td>0.00</td>\n",
       "      <td>4.6600</td>\n",
       "      <td>12.820</td>\n",
       "      <td>27.9725</td>\n",
       "      <td>1279.10</td>\n",
       "    </tr>\n",
       "    <tr>\n",
       "      <th>Investment_in_Derivative</th>\n",
       "      <td>8124.0</td>\n",
       "      <td>31.530652</td>\n",
       "      <td>39.480660</td>\n",
       "      <td>0.00</td>\n",
       "      <td>8.7400</td>\n",
       "      <td>21.140</td>\n",
       "      <td>42.3925</td>\n",
       "      <td>1771.16</td>\n",
       "    </tr>\n",
       "    <tr>\n",
       "      <th>Portfolio_Balance</th>\n",
       "      <td>8124.0</td>\n",
       "      <td>89.353368</td>\n",
       "      <td>108.303538</td>\n",
       "      <td>-78.43</td>\n",
       "      <td>26.2775</td>\n",
       "      <td>65.560</td>\n",
       "      <td>123.9700</td>\n",
       "      <td>4283.56</td>\n",
       "    </tr>\n",
       "    <tr>\n",
       "      <th>Revenue_Grid</th>\n",
       "      <td>8124.0</td>\n",
       "      <td>1.894141</td>\n",
       "      <td>0.307676</td>\n",
       "      <td>1.00</td>\n",
       "      <td>2.0000</td>\n",
       "      <td>2.000</td>\n",
       "      <td>2.0000</td>\n",
       "      <td>2.00</td>\n",
       "    </tr>\n",
       "  </tbody>\n",
       "</table>\n",
       "</div>"
      ],
      "text/plain": [
       "                                  count         mean          std    min  \\\n",
       "REF_NO                           8124.0  5797.343304  3322.497568   2.00   \n",
       "year_last_moved                  8124.0  1967.876908   182.563785   0.00   \n",
       "Average_Credit_Card_Transaction  8124.0    23.251094    51.147496   0.00   \n",
       "Balance_Transfer                 8124.0    46.082922    79.084692   0.00   \n",
       "Term_Deposit                     8124.0    27.284649    54.133537   0.00   \n",
       "Life_Insurance                   8124.0    65.317939    95.762451   0.00   \n",
       "Medical_Insurance                8124.0    18.826195    32.022332   0.00   \n",
       "Average_A/C_Balance              8124.0    31.838023    45.249440   0.00   \n",
       "Personal_Loan                    8124.0    25.415830    85.130150   0.00   \n",
       "Investment_in_Mutual_Fund        8124.0    41.723628    64.416023   0.00   \n",
       "Investment_Tax_Saving_Bond       8124.0     6.057246    12.673374   0.00   \n",
       "Home_Loan                        8124.0     4.416914     9.945747   0.00   \n",
       "Online_Purchase_Amount           8124.0    19.198658    92.343126   0.00   \n",
       "Investment_in_Commudity          8124.0    36.152749    42.474953   0.00   \n",
       "Investment_in_Equity             8124.0    21.442475    32.261660   0.00   \n",
       "Investment_in_Derivative         8124.0    31.530652    39.480660   0.00   \n",
       "Portfolio_Balance                8124.0    89.353368   108.303538 -78.43   \n",
       "Revenue_Grid                     8124.0     1.894141     0.307676   1.00   \n",
       "\n",
       "                                       25%       50%        75%       max  \n",
       "REF_NO                           2924.7500  5811.500  8681.5000  11518.00  \n",
       "year_last_moved                  1978.0000  1988.000  1994.0000   1999.00  \n",
       "Average_Credit_Card_Transaction     0.0000     0.000    23.4800    662.26  \n",
       "Balance_Transfer                    0.0000    17.485    64.9900   2951.76  \n",
       "Term_Deposit                        0.0000     0.000    34.4900    784.82  \n",
       "Life_Insurance                      0.0000    31.475    92.8875   2930.41  \n",
       "Medical_Insurance                   0.0000     0.010    26.9700    591.04  \n",
       "Average_A/C_Balance                 0.0000    14.980    45.9225    626.24  \n",
       "Personal_Loan                       0.0000     0.000    20.8275   4905.93  \n",
       "Investment_in_Mutual_Fund           0.0000    23.480    59.4400   2561.27  \n",
       "Investment_Tax_Saving_Bond          0.0000     0.000     5.4900    156.87  \n",
       "Home_Loan                           0.0000     0.000     4.4900    162.35  \n",
       "Online_Purchase_Amount              0.0000     0.000     7.4800   4306.42  \n",
       "Investment_in_Commudity             8.2825    23.590    49.7950   1231.09  \n",
       "Investment_in_Equity                4.6600    12.820    27.9725   1279.10  \n",
       "Investment_in_Derivative            8.7400    21.140    42.3925   1771.16  \n",
       "Portfolio_Balance                  26.2775    65.560   123.9700   4283.56  \n",
       "Revenue_Grid                        2.0000     2.000     2.0000      2.00  "
      ]
     },
     "execution_count": 8,
     "metadata": {},
     "output_type": "execute_result"
    }
   ],
   "source": [
    "train_data.describe().T"
   ]
  },
  {
   "cell_type": "markdown",
   "metadata": {},
   "source": [
    "# Profiling of the Dataset"
   ]
  },
  {
   "cell_type": "code",
   "execution_count": 9,
   "metadata": {},
   "outputs": [],
   "source": [
    "from pandas_profiling import profile_report\n"
   ]
  },
  {
   "cell_type": "code",
   "execution_count": 10,
   "metadata": {},
   "outputs": [],
   "source": [
    "Report = train_data.profile_report(title = 'Classification_Report')"
   ]
  },
  {
   "cell_type": "code",
   "execution_count": 11,
   "metadata": {},
   "outputs": [],
   "source": [
    "#Report.to_file('Classification_Report.html')"
   ]
  },
  {
   "cell_type": "markdown",
   "metadata": {},
   "source": [
    "# Dataset Information\n",
    "\n",
    "* Number of variables\t32<br>\n",
    "* Number of observations\t8124<br>\n",
    "* Missing cells\t0<br>\n",
    "* Duplicate Rows 0\n",
    "\n",
    "# Variable Types\n",
    "\n",
    "* Numerical - 17<br>\n",
    "* Categorical - 13<br>\n",
    "* Boolean - 2<br>\n",
    "\n",
    "\n",
    "# Feature Information\n",
    "\n",
    "* 1 - Ref No - Unique Identity of the Customers. 8124 Observation\n",
    "* 2- Childeren - Categorical Variable - 5 Categories divided(None, 1,2,3,4+). Majorly None with 5K Observation\n",
    "* 3 - AgeBand - Categorical Variable - 13 Categories. 67% of the Customers are above 30 Years of age\n",
    "* 4 - Status of the Customer - 5 Categories - 76% of the customers have partners followed by 10% as Single/Never Married\n",
    "* 5 - Occupation - 9 Categories - Profession - 24% , Retired - 22% , Secretarial - 17%, Housewife - 12% and 25% are rest\n",
    "* 6 - Partner_Occupation - 9 Categories - 19% are unknown followed by Professional, Retired and Manual Worker\n",
    "* 7 - Home_Status -  5 Categories - Own Home -93%\n",
    "* 8 - Family Income - 13 Categories - Numerical - 25% are in the range of >35,000 12% in the range of 25K to 27.5K\n",
    "* 9 - self_employeed - Boolean Value - False - 92.8% and 7.2% True\n",
    "* 10 - self_employed - Boolean Value - False - 89% and 11% True\n",
    "* 11 - year_last_moved - Continous Variable - Range is 1999 median is 1988 and mean is 1967\n",
    "* 12 - TV Area -  14 Categories -  Central (16%) , Carlton (15%), Meridian (12%)\n",
    "* 13 - Post_Code - Categorical Variable - High Cardinality - 8050\n",
    "* 14 - Post Area - Categorical Variable - High Cardinality - 1937\n",
    "* 15 - Average CC Transaction - Continous Variable - Zeros (61%). Range -662\n",
    "* 16 - Balance Transfer - Continous Variable -  Zeros(44%). Range - 2951. Median (17.4) Mean - 46.08\n",
    "* 17 - Term_Deposit - Continous Variable -  Zeros(57%) Range - 784, Mean - 27 Median - 0\n",
    "* 18 - Life_Insurance - Continous Variable -  Zeros(30%) Range - 2930, Mean - 65.31 Median - 31\n",
    "* 19 - Medical_INsurance - Continous Variable -  Zeros(50%) Range - 591, Mean - 18.827 Median - 0.01\n",
    "* 20 - Avg Acc Balance  - Continous Variable -  Zeros(35%) Range - 626, Mean - 31.8 Median - 14.98\n",
    "* 21 - Personal Loan - Continous Variable -  Zeros(64%) Range - 4905, Mean - 25 Median - 0\n",
    "* 22 - Investment in MF - Continous Variable -  Zeros(32%) Range - 2561, Mean - 41.7 Median - 23\n",
    "* 23 - Investment_Tax_Saving_Bond - Continous Variable -  Zeros(64%) Range - 157, Mean - 6 Median - 5\n",
    "* 24 - HomeLoan - Continous Variable -  Zeros(69%) Range - 162, Mean - 4.41 Median - 0\n",
    "* 25 - Online Purchase Amnt - Continous Variable -  Zeros(70%) Range - 4306, Mean - 19.19 Median - 0\n",
    "* 26 - Gender - 3 Categories -  Gender - Female -75.2%, 24.5% - Male\n",
    "* 27 - Investment in Commodity  - Continous Variable -  Zeros(10%) Range - 1231, Mean - 36.159 Median - 23.59\n",
    "* 28 - Investment in Equity - Continous Variable -  Zeros(11%) Range - 1279, Mean - 21.4 Median - 12.82\n",
    "* 29 - Investment in Derivative - Continous Variable -  Zeros(5.5%) Range - 1771, Mean - 31.53 Median - 21.14\n",
    "* 30 - Portfolio_Balance - Continous Variable -  Range - 4361, Mean - 89.35 Median - 65.56\n",
    "* 31 -  Region -  13 Categories -  \n",
    "* 32 - Revenue_Grid - Target Varibable Boolean -  2 - (Low Net Worth) - 89.4%, 1- High Net Worth (10.1%)\n",
    "\n"
   ]
  },
  {
   "cell_type": "markdown",
   "metadata": {},
   "source": [
    "# Data Preprocesing"
   ]
  },
  {
   "cell_type": "markdown",
   "metadata": {},
   "source": [
    "## Removal of Cardinal Variable"
   ]
  },
  {
   "cell_type": "code",
   "execution_count": 12,
   "metadata": {},
   "outputs": [
    {
     "data": {
      "text/plain": [
       "Index(['REF_NO', 'children', 'age_band', 'status', 'occupation',\n",
       "       'occupation_partner', 'home_status', 'family_income', 'self_employed',\n",
       "       'self_employed_partner', 'year_last_moved', 'TVarea', 'post_code',\n",
       "       'post_area', 'Average_Credit_Card_Transaction', 'Balance_Transfer',\n",
       "       'Term_Deposit', 'Life_Insurance', 'Medical_Insurance',\n",
       "       'Average_A/C_Balance', 'Personal_Loan', 'Investment_in_Mutual_Fund',\n",
       "       'Investment_Tax_Saving_Bond', 'Home_Loan', 'Online_Purchase_Amount',\n",
       "       'gender', 'region', 'Investment_in_Commudity', 'Investment_in_Equity',\n",
       "       'Investment_in_Derivative', 'Portfolio_Balance', 'Revenue_Grid'],\n",
       "      dtype='object')"
      ]
     },
     "execution_count": 12,
     "metadata": {},
     "output_type": "execute_result"
    }
   ],
   "source": [
    "train_data.columns"
   ]
  },
  {
   "cell_type": "code",
   "execution_count": 185,
   "metadata": {},
   "outputs": [],
   "source": [
    "train_data1 = train_data.copy()"
   ]
  },
  {
   "cell_type": "code",
   "execution_count": 186,
   "metadata": {},
   "outputs": [],
   "source": [
    "train_data1.drop(labels=['REF_NO','post_code','post_area','region','TVarea'],axis=1, inplace=True)"
   ]
  },
  {
   "cell_type": "code",
   "execution_count": 187,
   "metadata": {},
   "outputs": [],
   "source": [
    "OverallCols = train_data1.columns"
   ]
  },
  {
   "cell_type": "code",
   "execution_count": 188,
   "metadata": {},
   "outputs": [],
   "source": [
    "NumericalCols = train_data1.describe().columns"
   ]
  },
  {
   "cell_type": "code",
   "execution_count": 189,
   "metadata": {},
   "outputs": [],
   "source": [
    "CatVar = set(OverallCols) - set(NumericalCols)"
   ]
  },
  {
   "cell_type": "code",
   "execution_count": 190,
   "metadata": {},
   "outputs": [],
   "source": [
    "ModelWork = pd.get_dummies(train_data1, drop_first=True)"
   ]
  },
  {
   "cell_type": "code",
   "execution_count": 191,
   "metadata": {},
   "outputs": [
    {
     "data": {
      "text/plain": [
       "(8124, 73)"
      ]
     },
     "execution_count": 191,
     "metadata": {},
     "output_type": "execute_result"
    }
   ],
   "source": [
    "ModelWork.shape"
   ]
  },
  {
   "cell_type": "markdown",
   "metadata": {},
   "source": [
    "# EDA"
   ]
  },
  {
   "cell_type": "markdown",
   "metadata": {},
   "source": [
    "## Demographics"
   ]
  },
  {
   "cell_type": "markdown",
   "metadata": {},
   "source": [
    "### 1 - Split of Gender,age_band,children,family_income,status,occupation,Home_Status in the Dataset"
   ]
  },
  {
   "cell_type": "code",
   "execution_count": 80,
   "metadata": {},
   "outputs": [
    {
     "data": {
      "image/png": "[encoded data removed]",
      "text/plain": [
       "<Figure size 864x864 with 6 Axes>"
      ]
     },
     "metadata": {
      "needs_background": "light"
     },
     "output_type": "display_data"
    }
   ],
   "source": [
    "f,axes = plt.subplots(2,3,figsize=(12,12))\n",
    "plt.xticks(rotation=90)\n",
    "\n",
    "sns.countplot(train_data1['gender'],ax=axes[0,0])\n",
    "plt.xticks(rotation=90)\n",
    "sns.countplot(train_data1['children'],ax=axes[0,1])\n",
    "sns.countplot(y=train_data1['status'],ax=axes[0,2])\n",
    "plt.xticks(rotation=90)\n",
    "sns.countplot(y=train_data1['age_band'],ax=axes[1,0]);\n",
    "sns.countplot(y=train_data1['occupation'],ax=axes[1,1]);\n",
    "sns.countplot(y=train_data1['home_status'],ax=axes[1,2]);"
   ]
  },
  {
   "cell_type": "markdown",
   "metadata": {},
   "source": [
    "<b>Insights :</b> 1) Dataset has majorly Female contributing to 75%. 76% of the customers have partners.Majorly customer don't have childrens. High Data consists in range of 31-60. Occupation is majorly the Professional/Admin/Retired/Admin. 93% customers have their own Home"
   ]
  },
  {
   "cell_type": "markdown",
   "metadata": {},
   "source": [
    "## 2 - Relationship between Gender/status and Children"
   ]
  },
  {
   "cell_type": "code",
   "execution_count": 93,
   "metadata": {},
   "outputs": [
    {
     "data": {
      "text/html": [
       "<div>\n",
       "<style scoped>\n",
       "    .dataframe tbody tr th:only-of-type {\n",
       "        vertical-align: middle;\n",
       "    }\n",
       "\n",
       "    .dataframe tbody tr th {\n",
       "        vertical-align: top;\n",
       "    }\n",
       "\n",
       "    .dataframe thead th {\n",
       "        text-align: right;\n",
       "    }\n",
       "</style>\n",
       "<table border=\"1\" class=\"dataframe\">\n",
       "  <thead>\n",
       "    <tr style=\"text-align: right;\">\n",
       "      <th></th>\n",
       "      <th>status</th>\n",
       "      <th>Divorced/Separated</th>\n",
       "      <th>Partner</th>\n",
       "      <th>Single/Never Married</th>\n",
       "      <th>Unknown</th>\n",
       "      <th>Widowed</th>\n",
       "    </tr>\n",
       "    <tr>\n",
       "      <th>gender</th>\n",
       "      <th>children</th>\n",
       "      <th></th>\n",
       "      <th></th>\n",
       "      <th></th>\n",
       "      <th></th>\n",
       "      <th></th>\n",
       "    </tr>\n",
       "  </thead>\n",
       "  <tbody>\n",
       "    <tr>\n",
       "      <th rowspan=\"5\" valign=\"top\">Female</th>\n",
       "      <th>1</th>\n",
       "      <td>1.169375</td>\n",
       "      <td>11.595273</td>\n",
       "      <td>0.886263</td>\n",
       "      <td>0.024618</td>\n",
       "      <td>0.492368</td>\n",
       "    </tr>\n",
       "    <tr>\n",
       "      <th>2</th>\n",
       "      <td>0.972427</td>\n",
       "      <td>10.450517</td>\n",
       "      <td>0.369276</td>\n",
       "      <td>0.000000</td>\n",
       "      <td>0.172329</td>\n",
       "    </tr>\n",
       "    <tr>\n",
       "      <th>3</th>\n",
       "      <td>0.233875</td>\n",
       "      <td>3.064993</td>\n",
       "      <td>0.098474</td>\n",
       "      <td>0.000000</td>\n",
       "      <td>0.036928</td>\n",
       "    </tr>\n",
       "    <tr>\n",
       "      <th>4+</th>\n",
       "      <td>0.000000</td>\n",
       "      <td>0.061546</td>\n",
       "      <td>0.000000</td>\n",
       "      <td>0.000000</td>\n",
       "      <td>0.000000</td>\n",
       "    </tr>\n",
       "    <tr>\n",
       "      <th>Zero</th>\n",
       "      <td>3.163466</td>\n",
       "      <td>31.019202</td>\n",
       "      <td>6.240768</td>\n",
       "      <td>0.295421</td>\n",
       "      <td>4.812900</td>\n",
       "    </tr>\n",
       "    <tr>\n",
       "      <th rowspan=\"5\" valign=\"top\">Male</th>\n",
       "      <th>1</th>\n",
       "      <td>0.135401</td>\n",
       "      <td>3.471196</td>\n",
       "      <td>0.209257</td>\n",
       "      <td>0.024618</td>\n",
       "      <td>0.073855</td>\n",
       "    </tr>\n",
       "    <tr>\n",
       "      <th>2</th>\n",
       "      <td>0.073855</td>\n",
       "      <td>3.397341</td>\n",
       "      <td>0.110783</td>\n",
       "      <td>0.000000</td>\n",
       "      <td>0.000000</td>\n",
       "    </tr>\n",
       "    <tr>\n",
       "      <th>3</th>\n",
       "      <td>0.012309</td>\n",
       "      <td>1.120138</td>\n",
       "      <td>0.024618</td>\n",
       "      <td>0.000000</td>\n",
       "      <td>0.000000</td>\n",
       "    </tr>\n",
       "    <tr>\n",
       "      <th>4+</th>\n",
       "      <td>0.000000</td>\n",
       "      <td>0.073855</td>\n",
       "      <td>0.012309</td>\n",
       "      <td>0.000000</td>\n",
       "      <td>0.000000</td>\n",
       "    </tr>\n",
       "    <tr>\n",
       "      <th>Zero</th>\n",
       "      <td>1.206302</td>\n",
       "      <td>10.844412</td>\n",
       "      <td>2.831118</td>\n",
       "      <td>0.147710</td>\n",
       "      <td>0.689316</td>\n",
       "    </tr>\n",
       "    <tr>\n",
       "      <th rowspan=\"5\" valign=\"top\">Unknown</th>\n",
       "      <th>1</th>\n",
       "      <td>0.012309</td>\n",
       "      <td>0.036928</td>\n",
       "      <td>0.012309</td>\n",
       "      <td>0.000000</td>\n",
       "      <td>0.000000</td>\n",
       "    </tr>\n",
       "    <tr>\n",
       "      <th>2</th>\n",
       "      <td>0.012309</td>\n",
       "      <td>0.086164</td>\n",
       "      <td>0.000000</td>\n",
       "      <td>0.000000</td>\n",
       "      <td>0.000000</td>\n",
       "    </tr>\n",
       "    <tr>\n",
       "      <th>3</th>\n",
       "      <td>0.000000</td>\n",
       "      <td>0.024618</td>\n",
       "      <td>0.000000</td>\n",
       "      <td>0.000000</td>\n",
       "      <td>0.000000</td>\n",
       "    </tr>\n",
       "    <tr>\n",
       "      <th>4+</th>\n",
       "      <td>0.000000</td>\n",
       "      <td>0.012309</td>\n",
       "      <td>0.000000</td>\n",
       "      <td>0.000000</td>\n",
       "      <td>0.000000</td>\n",
       "    </tr>\n",
       "    <tr>\n",
       "      <th>Zero</th>\n",
       "      <td>0.012309</td>\n",
       "      <td>0.123092</td>\n",
       "      <td>0.049237</td>\n",
       "      <td>0.000000</td>\n",
       "      <td>0.000000</td>\n",
       "    </tr>\n",
       "  </tbody>\n",
       "</table>\n",
       "</div>"
      ],
      "text/plain": [
       "status            Divorced/Separated    Partner  Single/Never Married  \\\n",
       "gender  children                                                        \n",
       "Female  1                   1.169375  11.595273              0.886263   \n",
       "        2                   0.972427  10.450517              0.369276   \n",
       "        3                   0.233875   3.064993              0.098474   \n",
       "        4+                  0.000000   0.061546              0.000000   \n",
       "        Zero                3.163466  31.019202              6.240768   \n",
       "Male    1                   0.135401   3.471196              0.209257   \n",
       "        2                   0.073855   3.397341              0.110783   \n",
       "        3                   0.012309   1.120138              0.024618   \n",
       "        4+                  0.000000   0.073855              0.012309   \n",
       "        Zero                1.206302  10.844412              2.831118   \n",
       "Unknown 1                   0.012309   0.036928              0.012309   \n",
       "        2                   0.012309   0.086164              0.000000   \n",
       "        3                   0.000000   0.024618              0.000000   \n",
       "        4+                  0.000000   0.012309              0.000000   \n",
       "        Zero                0.012309   0.123092              0.049237   \n",
       "\n",
       "status             Unknown   Widowed  \n",
       "gender  children                      \n",
       "Female  1         0.024618  0.492368  \n",
       "        2         0.000000  0.172329  \n",
       "        3         0.000000  0.036928  \n",
       "        4+        0.000000  0.000000  \n",
       "        Zero      0.295421  4.812900  \n",
       "Male    1         0.024618  0.073855  \n",
       "        2         0.000000  0.000000  \n",
       "        3         0.000000  0.000000  \n",
       "        4+        0.000000  0.000000  \n",
       "        Zero      0.147710  0.689316  \n",
       "Unknown 1         0.000000  0.000000  \n",
       "        2         0.000000  0.000000  \n",
       "        3         0.000000  0.000000  \n",
       "        4+        0.000000  0.000000  \n",
       "        Zero      0.000000  0.000000  "
      ]
     },
     "execution_count": 93,
     "metadata": {},
     "output_type": "execute_result"
    }
   ],
   "source": [
    "pd.crosstab([train_data1['gender'],train_data1['children']],train_data1['status'])/len(train_data)*100"
   ]
  },
  {
   "cell_type": "markdown",
   "metadata": {},
   "source": [
    "<b> Insights: </b> 41% of Customers have partner & have no Children.<br>\n",
    "9% customers are Single without Children.<br> \n",
    "34% of Customer have Partner as well as Childrens<br>\n",
    "5% of Customers are widowed and have no Children"
   ]
  },
  {
   "cell_type": "markdown",
   "metadata": {},
   "source": [
    "## 3-  Relationship of Family income with Status"
   ]
  },
  {
   "cell_type": "code",
   "execution_count": 112,
   "metadata": {},
   "outputs": [
    {
     "data": {
      "text/plain": [
       "<AxesSubplot:xlabel='count', ylabel='status'>"
      ]
     },
     "execution_count": 112,
     "metadata": {},
     "output_type": "execute_result"
    },
    {
     "data": {
      "image/png": "[encoded data removed]",
      "text/plain": [
       "<Figure size 432x288 with 1 Axes>"
      ]
     },
     "metadata": {
      "needs_background": "light"
     },
     "output_type": "display_data"
    }
   ],
   "source": [
    "plt.figsize=(20,20)\n",
    "plt.xticks(rotation=90)\n",
    "sns.countplot(data=train_data1,y='status',hue='family_income')"
   ]
  },
  {
   "cell_type": "markdown",
   "metadata": {},
   "source": [
    "<b> Insights : </b> - Family Income is Higher with the customers having Partner. There is some noise can be seen in segment of Single Status"
   ]
  },
  {
   "cell_type": "markdown",
   "metadata": {},
   "source": [
    "## 4 - Age Band with respect to Family Income"
   ]
  },
  {
   "cell_type": "code",
   "execution_count": 130,
   "metadata": {
    "scrolled": true
   },
   "outputs": [
    {
     "data": {
      "text/html": [
       "<div>\n",
       "<style scoped>\n",
       "    .dataframe tbody tr th:only-of-type {\n",
       "        vertical-align: middle;\n",
       "    }\n",
       "\n",
       "    .dataframe tbody tr th {\n",
       "        vertical-align: top;\n",
       "    }\n",
       "\n",
       "    .dataframe thead th {\n",
       "        text-align: right;\n",
       "    }\n",
       "</style>\n",
       "<table border=\"1\" class=\"dataframe\">\n",
       "  <thead>\n",
       "    <tr style=\"text-align: right;\">\n",
       "      <th>family_income</th>\n",
       "      <th>&lt; 4,000</th>\n",
       "      <th>&lt; 8,000, &gt;= 4,000</th>\n",
       "      <th>&lt;10,000, &gt;= 8,000</th>\n",
       "      <th>&lt;12,500, &gt;=10,000</th>\n",
       "      <th>&lt;15,000, &gt;=12,500</th>\n",
       "      <th>&lt;17,500, &gt;=15,000</th>\n",
       "      <th>&lt;20,000, &gt;=17,500</th>\n",
       "      <th>&lt;22,500, &gt;=20,000</th>\n",
       "      <th>&lt;25,000, &gt;=22,500</th>\n",
       "      <th>&lt;27,500, &gt;=25,000</th>\n",
       "      <th>&lt;30,000, &gt;=27,500</th>\n",
       "      <th>&gt;=35,000</th>\n",
       "      <th>Unknown</th>\n",
       "    </tr>\n",
       "    <tr>\n",
       "      <th>age_band</th>\n",
       "      <th></th>\n",
       "      <th></th>\n",
       "      <th></th>\n",
       "      <th></th>\n",
       "      <th></th>\n",
       "      <th></th>\n",
       "      <th></th>\n",
       "      <th></th>\n",
       "      <th></th>\n",
       "      <th></th>\n",
       "      <th></th>\n",
       "      <th></th>\n",
       "      <th></th>\n",
       "    </tr>\n",
       "  </thead>\n",
       "  <tbody>\n",
       "    <tr>\n",
       "      <th>18-21</th>\n",
       "      <td>4</td>\n",
       "      <td>1</td>\n",
       "      <td>0</td>\n",
       "      <td>5</td>\n",
       "      <td>5</td>\n",
       "      <td>1</td>\n",
       "      <td>2</td>\n",
       "      <td>1</td>\n",
       "      <td>5</td>\n",
       "      <td>10</td>\n",
       "      <td>7</td>\n",
       "      <td>8</td>\n",
       "      <td>1</td>\n",
       "    </tr>\n",
       "    <tr>\n",
       "      <th>22-25</th>\n",
       "      <td>5</td>\n",
       "      <td>1</td>\n",
       "      <td>9</td>\n",
       "      <td>16</td>\n",
       "      <td>16</td>\n",
       "      <td>16</td>\n",
       "      <td>33</td>\n",
       "      <td>18</td>\n",
       "      <td>49</td>\n",
       "      <td>47</td>\n",
       "      <td>48</td>\n",
       "      <td>94</td>\n",
       "      <td>4</td>\n",
       "    </tr>\n",
       "    <tr>\n",
       "      <th>26-30</th>\n",
       "      <td>9</td>\n",
       "      <td>7</td>\n",
       "      <td>12</td>\n",
       "      <td>16</td>\n",
       "      <td>29</td>\n",
       "      <td>33</td>\n",
       "      <td>51</td>\n",
       "      <td>41</td>\n",
       "      <td>77</td>\n",
       "      <td>101</td>\n",
       "      <td>91</td>\n",
       "      <td>255</td>\n",
       "      <td>13</td>\n",
       "    </tr>\n",
       "    <tr>\n",
       "      <th>31-35</th>\n",
       "      <td>6</td>\n",
       "      <td>8</td>\n",
       "      <td>15</td>\n",
       "      <td>25</td>\n",
       "      <td>30</td>\n",
       "      <td>40</td>\n",
       "      <td>59</td>\n",
       "      <td>43</td>\n",
       "      <td>88</td>\n",
       "      <td>131</td>\n",
       "      <td>108</td>\n",
       "      <td>282</td>\n",
       "      <td>5</td>\n",
       "    </tr>\n",
       "    <tr>\n",
       "      <th>36-40</th>\n",
       "      <td>9</td>\n",
       "      <td>14</td>\n",
       "      <td>14</td>\n",
       "      <td>28</td>\n",
       "      <td>32</td>\n",
       "      <td>44</td>\n",
       "      <td>48</td>\n",
       "      <td>47</td>\n",
       "      <td>78</td>\n",
       "      <td>131</td>\n",
       "      <td>117</td>\n",
       "      <td>332</td>\n",
       "      <td>1</td>\n",
       "    </tr>\n",
       "    <tr>\n",
       "      <th>41-45</th>\n",
       "      <td>9</td>\n",
       "      <td>9</td>\n",
       "      <td>21</td>\n",
       "      <td>29</td>\n",
       "      <td>44</td>\n",
       "      <td>39</td>\n",
       "      <td>43</td>\n",
       "      <td>59</td>\n",
       "      <td>79</td>\n",
       "      <td>136</td>\n",
       "      <td>108</td>\n",
       "      <td>321</td>\n",
       "      <td>6</td>\n",
       "    </tr>\n",
       "    <tr>\n",
       "      <th>45-50</th>\n",
       "      <td>11</td>\n",
       "      <td>19</td>\n",
       "      <td>34</td>\n",
       "      <td>51</td>\n",
       "      <td>45</td>\n",
       "      <td>62</td>\n",
       "      <td>60</td>\n",
       "      <td>68</td>\n",
       "      <td>92</td>\n",
       "      <td>165</td>\n",
       "      <td>133</td>\n",
       "      <td>348</td>\n",
       "      <td>10</td>\n",
       "    </tr>\n",
       "    <tr>\n",
       "      <th>51-55</th>\n",
       "      <td>15</td>\n",
       "      <td>22</td>\n",
       "      <td>45</td>\n",
       "      <td>50</td>\n",
       "      <td>64</td>\n",
       "      <td>63</td>\n",
       "      <td>65</td>\n",
       "      <td>60</td>\n",
       "      <td>70</td>\n",
       "      <td>117</td>\n",
       "      <td>75</td>\n",
       "      <td>181</td>\n",
       "      <td>6</td>\n",
       "    </tr>\n",
       "    <tr>\n",
       "      <th>55-60</th>\n",
       "      <td>30</td>\n",
       "      <td>46</td>\n",
       "      <td>77</td>\n",
       "      <td>100</td>\n",
       "      <td>91</td>\n",
       "      <td>80</td>\n",
       "      <td>74</td>\n",
       "      <td>64</td>\n",
       "      <td>62</td>\n",
       "      <td>68</td>\n",
       "      <td>62</td>\n",
       "      <td>99</td>\n",
       "      <td>12</td>\n",
       "    </tr>\n",
       "    <tr>\n",
       "      <th>61-65</th>\n",
       "      <td>52</td>\n",
       "      <td>83</td>\n",
       "      <td>100</td>\n",
       "      <td>97</td>\n",
       "      <td>82</td>\n",
       "      <td>59</td>\n",
       "      <td>47</td>\n",
       "      <td>37</td>\n",
       "      <td>31</td>\n",
       "      <td>34</td>\n",
       "      <td>24</td>\n",
       "      <td>46</td>\n",
       "      <td>8</td>\n",
       "    </tr>\n",
       "    <tr>\n",
       "      <th>65-70</th>\n",
       "      <td>41</td>\n",
       "      <td>63</td>\n",
       "      <td>70</td>\n",
       "      <td>64</td>\n",
       "      <td>44</td>\n",
       "      <td>46</td>\n",
       "      <td>31</td>\n",
       "      <td>28</td>\n",
       "      <td>19</td>\n",
       "      <td>18</td>\n",
       "      <td>15</td>\n",
       "      <td>26</td>\n",
       "      <td>3</td>\n",
       "    </tr>\n",
       "    <tr>\n",
       "      <th>71+</th>\n",
       "      <td>42</td>\n",
       "      <td>55</td>\n",
       "      <td>54</td>\n",
       "      <td>54</td>\n",
       "      <td>26</td>\n",
       "      <td>38</td>\n",
       "      <td>12</td>\n",
       "      <td>13</td>\n",
       "      <td>6</td>\n",
       "      <td>11</td>\n",
       "      <td>8</td>\n",
       "      <td>12</td>\n",
       "      <td>6</td>\n",
       "    </tr>\n",
       "    <tr>\n",
       "      <th>Unknown</th>\n",
       "      <td>0</td>\n",
       "      <td>0</td>\n",
       "      <td>1</td>\n",
       "      <td>0</td>\n",
       "      <td>0</td>\n",
       "      <td>0</td>\n",
       "      <td>0</td>\n",
       "      <td>0</td>\n",
       "      <td>0</td>\n",
       "      <td>0</td>\n",
       "      <td>0</td>\n",
       "      <td>10</td>\n",
       "      <td>33</td>\n",
       "    </tr>\n",
       "  </tbody>\n",
       "</table>\n",
       "</div>"
      ],
      "text/plain": [
       "family_income  < 4,000  < 8,000, >= 4,000  <10,000, >= 8,000  \\\n",
       "age_band                                                       \n",
       "18-21                4                  1                  0   \n",
       "22-25                5                  1                  9   \n",
       "26-30                9                  7                 12   \n",
       "31-35                6                  8                 15   \n",
       "36-40                9                 14                 14   \n",
       "41-45                9                  9                 21   \n",
       "45-50               11                 19                 34   \n",
       "51-55               15                 22                 45   \n",
       "55-60               30                 46                 77   \n",
       "61-65               52                 83                100   \n",
       "65-70               41                 63                 70   \n",
       "71+                 42                 55                 54   \n",
       "Unknown              0                  0                  1   \n",
       "\n",
       "family_income  <12,500, >=10,000  <15,000, >=12,500  <17,500, >=15,000  \\\n",
       "age_band                                                                 \n",
       "18-21                          5                  5                  1   \n",
       "22-25                         16                 16                 16   \n",
       "26-30                         16                 29                 33   \n",
       "31-35                         25                 30                 40   \n",
       "36-40                         28                 32                 44   \n",
       "41-45                         29                 44                 39   \n",
       "45-50                         51                 45                 62   \n",
       "51-55                         50                 64                 63   \n",
       "55-60                        100                 91                 80   \n",
       "61-65                         97                 82                 59   \n",
       "65-70                         64                 44                 46   \n",
       "71+                           54                 26                 38   \n",
       "Unknown                        0                  0                  0   \n",
       "\n",
       "family_income  <20,000, >=17,500  <22,500, >=20,000  <25,000, >=22,500  \\\n",
       "age_band                                                                 \n",
       "18-21                          2                  1                  5   \n",
       "22-25                         33                 18                 49   \n",
       "26-30                         51                 41                 77   \n",
       "31-35                         59                 43                 88   \n",
       "36-40                         48                 47                 78   \n",
       "41-45                         43                 59                 79   \n",
       "45-50                         60                 68                 92   \n",
       "51-55                         65                 60                 70   \n",
       "55-60                         74                 64                 62   \n",
       "61-65                         47                 37                 31   \n",
       "65-70                         31                 28                 19   \n",
       "71+                           12                 13                  6   \n",
       "Unknown                        0                  0                  0   \n",
       "\n",
       "family_income  <27,500, >=25,000  <30,000, >=27,500  >=35,000  Unknown  \n",
       "age_band                                                                \n",
       "18-21                         10                  7         8        1  \n",
       "22-25                         47                 48        94        4  \n",
       "26-30                        101                 91       255       13  \n",
       "31-35                        131                108       282        5  \n",
       "36-40                        131                117       332        1  \n",
       "41-45                        136                108       321        6  \n",
       "45-50                        165                133       348       10  \n",
       "51-55                        117                 75       181        6  \n",
       "55-60                         68                 62        99       12  \n",
       "61-65                         34                 24        46        8  \n",
       "65-70                         18                 15        26        3  \n",
       "71+                           11                  8        12        6  \n",
       "Unknown                        0                  0        10       33  "
      ]
     },
     "execution_count": 130,
     "metadata": {},
     "output_type": "execute_result"
    }
   ],
   "source": [
    "pd.crosstab(train_data1['age_band'],train_data1['family_income'])"
   ]
  },
  {
   "cell_type": "markdown",
   "metadata": {},
   "source": [
    "<b> Insights </b> : Family Income is higher for the customer in range of 26-50. "
   ]
  },
  {
   "cell_type": "code",
   "execution_count": 201,
   "metadata": {},
   "outputs": [
    {
     "data": {
      "text/plain": [
       "<AxesSubplot:>"
      ]
     },
     "execution_count": 201,
     "metadata": {},
     "output_type": "execute_result"
    },
    {
     "data": {
      "image/png": "[encoded data removed]",
      "text/plain": [
       "<Figure size 432x288 with 1 Axes>"
      ]
     },
     "metadata": {
      "needs_background": "light"
     },
     "output_type": "display_data"
    }
   ],
   "source": [
    "# Regionwise Data Distributi\n",
    "train_data['region'].value_counts().sort_values(ascending=False).plot(kind='bar')"
   ]
  },
  {
   "cell_type": "markdown",
   "metadata": {},
   "source": [
    "## 5 - Relationship of the Variable with respect to Target Variable (Revenue_Grid)"
   ]
  },
  {
   "cell_type": "code",
   "execution_count": 152,
   "metadata": {},
   "outputs": [
    {
     "data": {
      "image/png": "[encoded data removed]",
      "text/plain": [
       "<Figure size 576x360 with 4 Axes>"
      ]
     },
     "metadata": {},
     "output_type": "display_data"
    }
   ],
   "source": [
    "#1 - Relationship with Respect to homestatus\n",
    "\n",
    "f,axes = plt.subplots(1,4,figsize=(8,5))\n",
    "\n",
    "plt.title('home_status')\n",
    "\n",
    "train_data[train_data1['home_status']=='Own Home']['Revenue_Grid'].value_counts().plot(kind='pie',autopct='%1.1f%%',ax = axes[0]);\n",
    "train_data[train_data1['home_status']=='Rent Privately']['Revenue_Grid'].value_counts().plot(kind='pie',autopct='%1.1f%%',ax = axes[1]);\n",
    "train_data[train_data1['home_status']=='Rent from Council/HA']['Revenue_Grid'].value_counts().plot(kind='pie',autopct='%1.1f%%',ax = axes[2]);\n",
    "train_data[train_data1['home_status']=='Live in Parental Hom']['Revenue_Grid'].value_counts().plot(kind='pie',autopct='%1.1f%%',ax = axes[3]);"
   ]
  },
  {
   "cell_type": "markdown",
   "metadata": {},
   "source": [
    "<b>Insights :</b> Customer who has rent from Council has highest % share for Revenue1 Grid"
   ]
  },
  {
   "cell_type": "code",
   "execution_count": 156,
   "metadata": {},
   "outputs": [
    {
     "data": {
      "image/png": "[encoded data removed]",
      "text/plain": [
       "<Figure size 576x360 with 8 Axes>"
      ]
     },
     "metadata": {},
     "output_type": "display_data"
    }
   ],
   "source": [
    "#2 - Relationship with respect to Occupation\n",
    "\n",
    "f,axes = plt.subplots(2,4,figsize=(8,5))\n",
    "\n",
    "plt.title('home_status')\n",
    "\n",
    "train_data[train_data1['occupation']=='Professional']['Revenue_Grid'].value_counts().plot(kind='pie',autopct='%1.1f%%',ax = axes[0,0]);\n",
    "train_data[train_data1['occupation']=='Retired']['Revenue_Grid'].value_counts().plot(kind='pie',autopct='%1.1f%%',ax = axes[0,1]);\n",
    "train_data[train_data1['occupation']=='Secretarial/Admin']['Revenue_Grid'].value_counts().plot(kind='pie',autopct='%1.1f%%',ax = axes[0,2]);\n",
    "train_data[train_data1['occupation']=='Housewife']['Revenue_Grid'].value_counts().plot(kind='pie',autopct='%1.1f%%',ax = axes[0,3]);\n",
    "train_data[train_data1['occupation']=='Business Manager']['Revenue_Grid'].value_counts().plot(kind='pie',autopct='%1.1f%%',ax = axes[1,0]);\n",
    "train_data[train_data1['occupation']=='Manual Worker']['Revenue_Grid'].value_counts().plot(kind='pie',autopct='%1.1f%%',ax = axes[1,1]);\n",
    "train_data[train_data1['occupation']=='Student']['Revenue_Grid'].value_counts().plot(kind='pie',autopct='%1.1f%%',ax = axes[1,2]);\n",
    "train_data[train_data1['occupation']=='Other']['Revenue_Grid'].value_counts().plot(kind='pie',autopct='%1.1f%%',ax = axes[1,3]);\n"
   ]
  },
  {
   "cell_type": "markdown",
   "metadata": {},
   "source": [
    "<b> Insights : </b> Business Manager/Students have high ratio of Revenue Grid 1 ratio"
   ]
  },
  {
   "cell_type": "code",
   "execution_count": 160,
   "metadata": {},
   "outputs": [
    {
     "data": {
      "text/plain": [
       "<AxesSubplot:xlabel='count', ylabel='family_income'>"
      ]
     },
     "execution_count": 160,
     "metadata": {},
     "output_type": "execute_result"
    },
    {
     "data": {
      "image/png": "[encoded data removed]",
      "text/plain": [
       "<Figure size 432x288 with 1 Axes>"
      ]
     },
     "metadata": {
      "needs_background": "light"
     },
     "output_type": "display_data"
    }
   ],
   "source": [
    "# 3 - Family Income with Revenue Grid\n",
    "\n",
    "sns.countplot(data=train_data1, y='family_income', hue='Revenue_Grid' )\n"
   ]
  },
  {
   "cell_type": "markdown",
   "metadata": {},
   "source": [
    "<b>Insights :</b> Customers with higher family income has highest number of Grid1 Ratio "
   ]
  },
  {
   "cell_type": "code",
   "execution_count": 164,
   "metadata": {},
   "outputs": [
    {
     "data": {
      "text/plain": [
       "<AxesSubplot:xlabel='gender', ylabel='count'>"
      ]
     },
     "execution_count": 164,
     "metadata": {},
     "output_type": "execute_result"
    },
    {
     "data": {
      "image/png": "[encoded data removed]",
      "text/plain": [
       "<Figure size 432x288 with 1 Axes>"
      ]
     },
     "metadata": {
      "needs_background": "light"
     },
     "output_type": "display_data"
    }
   ],
   "source": [
    "#4 Gender with Revenue Grid\n",
    "sns.countplot(train_data1['gender'],hue=train_data1['Revenue_Grid'])\n",
    "\n",
    "#No Major Insight from this"
   ]
  },
  {
   "cell_type": "code",
   "execution_count": 165,
   "metadata": {},
   "outputs": [
    {
     "data": {
      "text/plain": [
       "Index(['children', 'age_band', 'status', 'occupation', 'occupation_partner',\n",
       "       'home_status', 'family_income', 'self_employed',\n",
       "       'self_employed_partner', 'year_last_moved', 'TVarea',\n",
       "       'Average_Credit_Card_Transaction', 'Balance_Transfer', 'Term_Deposit',\n",
       "       'Life_Insurance', 'Medical_Insurance', 'Average_A/C_Balance',\n",
       "       'Personal_Loan', 'Investment_in_Mutual_Fund',\n",
       "       'Investment_Tax_Saving_Bond', 'Home_Loan', 'Online_Purchase_Amount',\n",
       "       'gender', 'Investment_in_Commudity', 'Investment_in_Equity',\n",
       "       'Investment_in_Derivative', 'Portfolio_Balance', 'Revenue_Grid'],\n",
       "      dtype='object')"
      ]
     },
     "execution_count": 165,
     "metadata": {},
     "output_type": "execute_result"
    }
   ],
   "source": [
    "train_data1.columns"
   ]
  },
  {
   "cell_type": "code",
   "execution_count": 169,
   "metadata": {},
   "outputs": [
    {
     "data": {
      "text/html": [
       "<div>\n",
       "<style scoped>\n",
       "    .dataframe tbody tr th:only-of-type {\n",
       "        vertical-align: middle;\n",
       "    }\n",
       "\n",
       "    .dataframe tbody tr th {\n",
       "        vertical-align: top;\n",
       "    }\n",
       "\n",
       "    .dataframe thead th {\n",
       "        text-align: right;\n",
       "    }\n",
       "</style>\n",
       "<table border=\"1\" class=\"dataframe\">\n",
       "  <thead>\n",
       "    <tr style=\"text-align: right;\">\n",
       "      <th>self_employed</th>\n",
       "      <th>No</th>\n",
       "      <th>Yes</th>\n",
       "    </tr>\n",
       "    <tr>\n",
       "      <th>Revenue_Grid</th>\n",
       "      <th></th>\n",
       "      <th></th>\n",
       "    </tr>\n",
       "  </thead>\n",
       "  <tbody>\n",
       "    <tr>\n",
       "      <th>1</th>\n",
       "      <td>9.785820</td>\n",
       "      <td>0.800098</td>\n",
       "    </tr>\n",
       "    <tr>\n",
       "      <th>2</th>\n",
       "      <td>83.062531</td>\n",
       "      <td>6.351551</td>\n",
       "    </tr>\n",
       "  </tbody>\n",
       "</table>\n",
       "</div>"
      ],
      "text/plain": [
       "self_employed         No       Yes\n",
       "Revenue_Grid                      \n",
       "1               9.785820  0.800098\n",
       "2              83.062531  6.351551"
      ]
     },
     "execution_count": 169,
     "metadata": {},
     "output_type": "execute_result"
    }
   ],
   "source": [
    "pd.crosstab(train_data1['Revenue_Grid'],train_data1['self_employed'])/len(train_data)*100"
   ]
  },
  {
   "cell_type": "code",
   "execution_count": 170,
   "metadata": {},
   "outputs": [
    {
     "data": {
      "text/html": [
       "<div>\n",
       "<style scoped>\n",
       "    .dataframe tbody tr th:only-of-type {\n",
       "        vertical-align: middle;\n",
       "    }\n",
       "\n",
       "    .dataframe tbody tr th {\n",
       "        vertical-align: top;\n",
       "    }\n",
       "\n",
       "    .dataframe thead th {\n",
       "        text-align: right;\n",
       "    }\n",
       "</style>\n",
       "<table border=\"1\" class=\"dataframe\">\n",
       "  <thead>\n",
       "    <tr style=\"text-align: right;\">\n",
       "      <th>self_employed_partner</th>\n",
       "      <th>No</th>\n",
       "      <th>Yes</th>\n",
       "    </tr>\n",
       "    <tr>\n",
       "      <th>Revenue_Grid</th>\n",
       "      <th></th>\n",
       "      <th></th>\n",
       "    </tr>\n",
       "  </thead>\n",
       "  <tbody>\n",
       "    <tr>\n",
       "      <th>1</th>\n",
       "      <td>9.318070</td>\n",
       "      <td>1.267848</td>\n",
       "    </tr>\n",
       "    <tr>\n",
       "      <th>2</th>\n",
       "      <td>79.394387</td>\n",
       "      <td>10.019695</td>\n",
       "    </tr>\n",
       "  </tbody>\n",
       "</table>\n",
       "</div>"
      ],
      "text/plain": [
       "self_employed_partner         No        Yes\n",
       "Revenue_Grid                               \n",
       "1                       9.318070   1.267848\n",
       "2                      79.394387  10.019695"
      ]
     },
     "execution_count": 170,
     "metadata": {},
     "output_type": "execute_result"
    }
   ],
   "source": [
    "pd.crosstab(train_data1['Revenue_Grid'],train_data1['self_employed_partner'])/len(train_data)*100"
   ]
  },
  {
   "cell_type": "markdown",
   "metadata": {},
   "source": [
    "##  Relationship of continous Variables"
   ]
  },
  {
   "cell_type": "code",
   "execution_count": 231,
   "metadata": {},
   "outputs": [
    {
     "data": {
      "text/plain": [
       "Index(['year_last_moved', 'Average_Credit_Card_Transaction',\n",
       "       'Balance_Transfer', 'Term_Deposit', 'Life_Insurance',\n",
       "       'Medical_Insurance', 'Average_A/C_Balance', 'Personal_Loan',\n",
       "       'Investment_in_Mutual_Fund', 'Investment_Tax_Saving_Bond', 'Home_Loan',\n",
       "       'Online_Purchase_Amount', 'Investment_in_Commudity',\n",
       "       'Investment_in_Equity', 'Investment_in_Derivative', 'Portfolio_Balance',\n",
       "       'Revenue_Grid'],\n",
       "      dtype='object')"
      ]
     },
     "execution_count": 231,
     "metadata": {},
     "output_type": "execute_result"
    }
   ],
   "source": [
    "train_data1.describe().columns"
   ]
  },
  {
   "cell_type": "code",
   "execution_count": 235,
   "metadata": {},
   "outputs": [
    {
     "data": {
      "text/html": [
       "<div>\n",
       "<style scoped>\n",
       "    .dataframe tbody tr th:only-of-type {\n",
       "        vertical-align: middle;\n",
       "    }\n",
       "\n",
       "    .dataframe tbody tr th {\n",
       "        vertical-align: top;\n",
       "    }\n",
       "\n",
       "    .dataframe thead th {\n",
       "        text-align: right;\n",
       "    }\n",
       "</style>\n",
       "<table border=\"1\" class=\"dataframe\">\n",
       "  <thead>\n",
       "    <tr style=\"text-align: right;\">\n",
       "      <th></th>\n",
       "      <th>year_last_moved</th>\n",
       "      <th>Average_Credit_Card_Transaction</th>\n",
       "      <th>Balance_Transfer</th>\n",
       "      <th>Term_Deposit</th>\n",
       "      <th>Life_Insurance</th>\n",
       "      <th>Medical_Insurance</th>\n",
       "      <th>Average_A/C_Balance</th>\n",
       "      <th>Personal_Loan</th>\n",
       "      <th>Investment_in_Mutual_Fund</th>\n",
       "      <th>Investment_Tax_Saving_Bond</th>\n",
       "      <th>Home_Loan</th>\n",
       "      <th>Online_Purchase_Amount</th>\n",
       "      <th>Investment_in_Commudity</th>\n",
       "      <th>Investment_in_Equity</th>\n",
       "      <th>Investment_in_Derivative</th>\n",
       "      <th>Portfolio_Balance</th>\n",
       "    </tr>\n",
       "    <tr>\n",
       "      <th>Revenue_Grid</th>\n",
       "      <th></th>\n",
       "      <th></th>\n",
       "      <th></th>\n",
       "      <th></th>\n",
       "      <th></th>\n",
       "      <th></th>\n",
       "      <th></th>\n",
       "      <th></th>\n",
       "      <th></th>\n",
       "      <th></th>\n",
       "      <th></th>\n",
       "      <th></th>\n",
       "      <th></th>\n",
       "      <th></th>\n",
       "      <th></th>\n",
       "      <th></th>\n",
       "    </tr>\n",
       "  </thead>\n",
       "  <tbody>\n",
       "    <tr>\n",
       "      <th>1</th>\n",
       "      <td>1978.29186</td>\n",
       "      <td>61.980698</td>\n",
       "      <td>61.859895</td>\n",
       "      <td>30.023860</td>\n",
       "      <td>121.533314</td>\n",
       "      <td>28.338570</td>\n",
       "      <td>46.862907</td>\n",
       "      <td>19.765140</td>\n",
       "      <td>62.319453</td>\n",
       "      <td>16.567709</td>\n",
       "      <td>5.312233</td>\n",
       "      <td>121.733547</td>\n",
       "      <td>60.747349</td>\n",
       "      <td>45.427651</td>\n",
       "      <td>49.232093</td>\n",
       "      <td>155.502674</td>\n",
       "    </tr>\n",
       "    <tr>\n",
       "      <th>2</th>\n",
       "      <td>1966.64386</td>\n",
       "      <td>18.665816</td>\n",
       "      <td>44.215054</td>\n",
       "      <td>26.960348</td>\n",
       "      <td>58.662485</td>\n",
       "      <td>17.700006</td>\n",
       "      <td>30.059196</td>\n",
       "      <td>26.084827</td>\n",
       "      <td>39.285245</td>\n",
       "      <td>4.812891</td>\n",
       "      <td>4.310915</td>\n",
       "      <td>7.059341</td>\n",
       "      <td>33.240943</td>\n",
       "      <td>18.602821</td>\n",
       "      <td>29.434942</td>\n",
       "      <td>81.521814</td>\n",
       "    </tr>\n",
       "  </tbody>\n",
       "</table>\n",
       "</div>"
      ],
      "text/plain": [
       "              year_last_moved  Average_Credit_Card_Transaction  \\\n",
       "Revenue_Grid                                                     \n",
       "1                  1978.29186                        61.980698   \n",
       "2                  1966.64386                        18.665816   \n",
       "\n",
       "              Balance_Transfer  Term_Deposit  Life_Insurance  \\\n",
       "Revenue_Grid                                                   \n",
       "1                    61.859895     30.023860      121.533314   \n",
       "2                    44.215054     26.960348       58.662485   \n",
       "\n",
       "              Medical_Insurance  Average_A/C_Balance  Personal_Loan  \\\n",
       "Revenue_Grid                                                          \n",
       "1                     28.338570            46.862907      19.765140   \n",
       "2                     17.700006            30.059196      26.084827   \n",
       "\n",
       "              Investment_in_Mutual_Fund  Investment_Tax_Saving_Bond  \\\n",
       "Revenue_Grid                                                          \n",
       "1                             62.319453                   16.567709   \n",
       "2                             39.285245                    4.812891   \n",
       "\n",
       "              Home_Loan  Online_Purchase_Amount  Investment_in_Commudity  \\\n",
       "Revenue_Grid                                                               \n",
       "1              5.312233              121.733547                60.747349   \n",
       "2              4.310915                7.059341                33.240943   \n",
       "\n",
       "              Investment_in_Equity  Investment_in_Derivative  \\\n",
       "Revenue_Grid                                                   \n",
       "1                        45.427651                 49.232093   \n",
       "2                        18.602821                 29.434942   \n",
       "\n",
       "              Portfolio_Balance  \n",
       "Revenue_Grid                     \n",
       "1                    155.502674  \n",
       "2                     81.521814  "
      ]
     },
     "execution_count": 235,
     "metadata": {},
     "output_type": "execute_result"
    }
   ],
   "source": [
    "train_data1.groupby(by='Revenue_Grid').agg('mean')"
   ]
  },
  {
   "cell_type": "markdown",
   "metadata": {},
   "source": [
    "<b> From the above Table, we drive the following Insights :</b><br>\n",
    "\n",
    "1) Average CC Transction is much higher in Revenue1 Grid Case<br>\n",
    "2) Life Insurance is much Higher in Revenue1 Grid Case<br>\n",
    "3) Almost 45% average account balance is maintained by the Revenue 1 Grid Customers<br>\n",
    "4) Personal Loan is higher in Revenue 2 Grid Customers<br>\n",
    "5) Online Purchase Amount is very higher for Revenue1 Grid Customers compared to the Revenue Grid 2 Customers"
   ]
  },
  {
   "cell_type": "code",
   "execution_count": 243,
   "metadata": {},
   "outputs": [
    {
     "data": {
      "text/plain": [
       "<AxesSubplot:xlabel='status', ylabel='Online_Purchase_Amount'>"
      ]
     },
     "execution_count": 243,
     "metadata": {},
     "output_type": "execute_result"
    },
    {
     "data": {
      "image/png": "[encoded data removed]",
      "text/plain": [
       "<Figure size 432x288 with 1 Axes>"
      ]
     },
     "metadata": {
      "needs_background": "light"
     },
     "output_type": "display_data"
    }
   ],
   "source": [
    "plt.figsize=(10,20)\n",
    "plt.xticks(rotation=90)\n",
    "sns.boxplot(data=train_data1,x='status',y='Online_Purchase_Amount',hue='Revenue_Grid')"
   ]
  },
  {
   "cell_type": "code",
   "execution_count": 215,
   "metadata": {},
   "outputs": [
    {
     "data": {
      "text/plain": [
       "<seaborn.axisgrid.PairGrid at 0x1efc6885130>"
      ]
     },
     "execution_count": 215,
     "metadata": {},
     "output_type": "execute_result"
    },
    {
     "data": {
      "image/png": "[encoded data removed]",
      "text/plain": [
       "<Figure size 900x900 with 30 Axes>"
      ]
     },
     "metadata": {
      "needs_background": "light"
     },
     "output_type": "display_data"
    }
   ],
   "source": [
    "sns.pairplot(train_data1[['Portfolio_Balance','Investment_in_Mutual_Fund','Investment_Tax_Saving_Bond','Investment_in_Equity','Investment_in_Derivative']])"
   ]
  },
  {
   "cell_type": "markdown",
   "metadata": {},
   "source": [
    "# Correlation Matrix"
   ]
  },
  {
   "cell_type": "code",
   "execution_count": 220,
   "metadata": {},
   "outputs": [
    {
     "data": {
      "text/plain": [
       "<AxesSubplot:>"
      ]
     },
     "execution_count": 220,
     "metadata": {},
     "output_type": "execute_result"
    },
    {
     "data": {
      "image/png": "[encoded data removed]",
      "text/plain": [
       "<Figure size 432x288 with 1 Axes>"
      ]
     },
     "metadata": {
      "needs_background": "light"
     },
     "output_type": "display_data"
    }
   ],
   "source": [
    "train_data1.corr()['Revenue_Grid'].plot(kind='barh')"
   ]
  },
  {
   "cell_type": "markdown",
   "metadata": {},
   "source": [
    "# Model Working "
   ]
  },
  {
   "cell_type": "markdown",
   "metadata": {},
   "source": [
    "## Splitting Data in to X and Y"
   ]
  },
  {
   "cell_type": "code",
   "execution_count": 244,
   "metadata": {},
   "outputs": [],
   "source": [
    "X = ModelWork.drop('Revenue_Grid',axis=1)"
   ]
  },
  {
   "cell_type": "code",
   "execution_count": 245,
   "metadata": {},
   "outputs": [
    {
     "name": "stdout",
     "output_type": "stream",
     "text": [
      "(8124, 72)\n"
     ]
    }
   ],
   "source": [
    "print(X.shape)"
   ]
  },
  {
   "cell_type": "code",
   "execution_count": 246,
   "metadata": {},
   "outputs": [],
   "source": [
    "y = ModelWork['Revenue_Grid']"
   ]
  },
  {
   "cell_type": "code",
   "execution_count": 247,
   "metadata": {},
   "outputs": [
    {
     "name": "stdout",
     "output_type": "stream",
     "text": [
      "(8124,)\n"
     ]
    }
   ],
   "source": [
    "print(y.shape)"
   ]
  },
  {
   "cell_type": "markdown",
   "metadata": {},
   "source": [
    "## Scaling the Dataset"
   ]
  },
  {
   "cell_type": "code",
   "execution_count": 250,
   "metadata": {},
   "outputs": [],
   "source": [
    "from sklearn.preprocessing import RobustScaler # As data has lot of Outliers"
   ]
  },
  {
   "cell_type": "code",
   "execution_count": 251,
   "metadata": {},
   "outputs": [],
   "source": [
    "RS = RobustScaler()"
   ]
  },
  {
   "cell_type": "code",
   "execution_count": 252,
   "metadata": {},
   "outputs": [],
   "source": [
    "X[X.columns] = RS.fit_transform(X)"
   ]
  },
  {
   "cell_type": "code",
   "execution_count": 253,
   "metadata": {},
   "outputs": [],
   "source": [
    "from sklearn.linear_model import LogisticRegression"
   ]
  },
  {
   "cell_type": "code",
   "execution_count": 254,
   "metadata": {},
   "outputs": [],
   "source": [
    "LogReg = LogisticRegression()"
   ]
  },
  {
   "cell_type": "code",
   "execution_count": 255,
   "metadata": {},
   "outputs": [
    {
     "data": {
      "text/plain": [
       "LogisticRegression()"
      ]
     },
     "execution_count": 255,
     "metadata": {},
     "output_type": "execute_result"
    }
   ],
   "source": [
    "LogReg.fit(X,y)"
   ]
  },
  {
   "cell_type": "code",
   "execution_count": 256,
   "metadata": {},
   "outputs": [],
   "source": [
    "Model_Predict = LogReg.predict(X)"
   ]
  },
  {
   "cell_type": "code",
   "execution_count": 257,
   "metadata": {},
   "outputs": [],
   "source": [
    "from sklearn.metrics import accuracy_score,f1_score,precision_score,recall_score,confusion_matrix"
   ]
  },
  {
   "cell_type": "code",
   "execution_count": 258,
   "metadata": {},
   "outputs": [],
   "source": [
    "AccuracyScore = accuracy_score(y,Model_Predict)"
   ]
  },
  {
   "cell_type": "code",
   "execution_count": 259,
   "metadata": {},
   "outputs": [
    {
     "data": {
      "text/plain": [
       "0.9470704086656819"
      ]
     },
     "execution_count": 259,
     "metadata": {},
     "output_type": "execute_result"
    }
   ],
   "source": [
    "AccuracyScore"
   ]
  },
  {
   "cell_type": "code",
   "execution_count": 260,
   "metadata": {},
   "outputs": [],
   "source": [
    "cm = confusion_matrix(y,Model_Predict)"
   ]
  },
  {
   "cell_type": "code",
   "execution_count": 261,
   "metadata": {},
   "outputs": [
    {
     "data": {
      "text/plain": [
       "array([[ 533,  327],\n",
       "       [ 103, 7161]], dtype=int64)"
      ]
     },
     "execution_count": 261,
     "metadata": {},
     "output_type": "execute_result"
    }
   ],
   "source": [
    "cm"
   ]
  },
  {
   "cell_type": "code",
   "execution_count": 262,
   "metadata": {},
   "outputs": [],
   "source": [
    "f1_Score = f1_score(y,Model_Predict)"
   ]
  },
  {
   "cell_type": "code",
   "execution_count": 264,
   "metadata": {},
   "outputs": [
    {
     "data": {
      "text/plain": [
       "0.7125668449197861"
      ]
     },
     "execution_count": 264,
     "metadata": {},
     "output_type": "execute_result"
    }
   ],
   "source": [
    "f1_Score"
   ]
  },
  {
   "cell_type": "code",
   "execution_count": 265,
   "metadata": {},
   "outputs": [],
   "source": [
    "Recall_Score = recall_score(y,Model_Predict)"
   ]
  },
  {
   "cell_type": "code",
   "execution_count": 266,
   "metadata": {},
   "outputs": [
    {
     "data": {
      "text/plain": [
       "0.6197674418604651"
      ]
     },
     "execution_count": 266,
     "metadata": {},
     "output_type": "execute_result"
    }
   ],
   "source": [
    "Recall_Score"
   ]
  },
  {
   "cell_type": "code",
   "execution_count": 267,
   "metadata": {},
   "outputs": [],
   "source": [
    "Prec_Score = precision_score(y,Model_Predict)"
   ]
  },
  {
   "cell_type": "code",
   "execution_count": 268,
   "metadata": {},
   "outputs": [
    {
     "data": {
      "text/plain": [
       "0.8380503144654088"
      ]
     },
     "execution_count": 268,
     "metadata": {},
     "output_type": "execute_result"
    }
   ],
   "source": [
    "Prec_Score"
   ]
  },
  {
   "cell_type": "markdown",
   "metadata": {},
   "source": [
    "# Working on Predicting the Dataset"
   ]
  },
  {
   "cell_type": "code",
   "execution_count": 269,
   "metadata": {},
   "outputs": [],
   "source": [
    "test_data1 = test_data.copy()"
   ]
  },
  {
   "cell_type": "code",
   "execution_count": 270,
   "metadata": {},
   "outputs": [
    {
     "data": {
      "text/plain": [
       "(2031, 31)"
      ]
     },
     "execution_count": 270,
     "metadata": {},
     "output_type": "execute_result"
    }
   ],
   "source": [
    "test_data1.shape"
   ]
  },
  {
   "cell_type": "code",
   "execution_count": 272,
   "metadata": {},
   "outputs": [],
   "source": [
    "test_data1.drop(labels=['REF_NO','post_code','post_area','region','TVarea'],axis=1,inplace=True)"
   ]
  },
  {
   "cell_type": "code",
   "execution_count": 273,
   "metadata": {},
   "outputs": [
    {
     "data": {
      "text/plain": [
       "(2031, 26)"
      ]
     },
     "execution_count": 273,
     "metadata": {},
     "output_type": "execute_result"
    }
   ],
   "source": [
    "test_data1.shape"
   ]
  },
  {
   "cell_type": "markdown",
   "metadata": {},
   "source": [
    "## Converting the Categorical Variables to Numerical Variables"
   ]
  },
  {
   "cell_type": "code",
   "execution_count": 278,
   "metadata": {},
   "outputs": [],
   "source": [
    "test_data1 = pd.get_dummies(test_data1, drop_first=True)"
   ]
  },
  {
   "cell_type": "code",
   "execution_count": 279,
   "metadata": {},
   "outputs": [
    {
     "data": {
      "text/plain": [
       "(2031, 72)"
      ]
     },
     "execution_count": 279,
     "metadata": {},
     "output_type": "execute_result"
    }
   ],
   "source": [
    "test_data1.shape"
   ]
  },
  {
   "cell_type": "markdown",
   "metadata": {},
   "source": [
    "## Scaling the Test Data using Robust Scaler"
   ]
  },
  {
   "cell_type": "code",
   "execution_count": 281,
   "metadata": {},
   "outputs": [],
   "source": [
    "test_data1[test_data1.columns]=RS.transform(test_data1)"
   ]
  },
  {
   "cell_type": "code",
   "execution_count": 282,
   "metadata": {},
   "outputs": [
    {
     "data": {
      "text/html": [
       "<div>\n",
       "<style scoped>\n",
       "    .dataframe tbody tr th:only-of-type {\n",
       "        vertical-align: middle;\n",
       "    }\n",
       "\n",
       "    .dataframe tbody tr th {\n",
       "        vertical-align: top;\n",
       "    }\n",
       "\n",
       "    .dataframe thead th {\n",
       "        text-align: right;\n",
       "    }\n",
       "</style>\n",
       "<table border=\"1\" class=\"dataframe\">\n",
       "  <thead>\n",
       "    <tr style=\"text-align: right;\">\n",
       "      <th></th>\n",
       "      <th>count</th>\n",
       "      <th>mean</th>\n",
       "      <th>std</th>\n",
       "      <th>min</th>\n",
       "      <th>25%</th>\n",
       "      <th>50%</th>\n",
       "      <th>75%</th>\n",
       "      <th>max</th>\n",
       "    </tr>\n",
       "  </thead>\n",
       "  <tbody>\n",
       "    <tr>\n",
       "      <th>year_last_moved</th>\n",
       "      <td>2031.0</td>\n",
       "      <td>-1.101613</td>\n",
       "      <td>10.653608</td>\n",
       "      <td>-124.250000</td>\n",
       "      <td>-0.562500</td>\n",
       "      <td>0.000000</td>\n",
       "      <td>0.375000</td>\n",
       "      <td>0.687500</td>\n",
       "    </tr>\n",
       "    <tr>\n",
       "      <th>Average_Credit_Card_Transaction</th>\n",
       "      <td>2031.0</td>\n",
       "      <td>1.030852</td>\n",
       "      <td>2.119272</td>\n",
       "      <td>0.000000</td>\n",
       "      <td>0.000000</td>\n",
       "      <td>0.000000</td>\n",
       "      <td>1.043015</td>\n",
       "      <td>16.647359</td>\n",
       "    </tr>\n",
       "    <tr>\n",
       "      <th>Balance_Transfer</th>\n",
       "      <td>2031.0</td>\n",
       "      <td>0.465796</td>\n",
       "      <td>1.169489</td>\n",
       "      <td>-0.269041</td>\n",
       "      <td>-0.269041</td>\n",
       "      <td>0.030543</td>\n",
       "      <td>0.803585</td>\n",
       "      <td>12.944992</td>\n",
       "    </tr>\n",
       "    <tr>\n",
       "      <th>Term_Deposit</th>\n",
       "      <td>2031.0</td>\n",
       "      <td>0.833884</td>\n",
       "      <td>1.543035</td>\n",
       "      <td>0.000000</td>\n",
       "      <td>0.000000</td>\n",
       "      <td>0.000000</td>\n",
       "      <td>1.042911</td>\n",
       "      <td>15.418962</td>\n",
       "    </tr>\n",
       "    <tr>\n",
       "      <th>Life_Insurance</th>\n",
       "      <td>2031.0</td>\n",
       "      <td>0.414091</td>\n",
       "      <td>1.018489</td>\n",
       "      <td>-0.338851</td>\n",
       "      <td>-0.338851</td>\n",
       "      <td>0.032459</td>\n",
       "      <td>0.745041</td>\n",
       "      <td>8.543076</td>\n",
       "    </tr>\n",
       "    <tr>\n",
       "      <th>...</th>\n",
       "      <td>...</td>\n",
       "      <td>...</td>\n",
       "      <td>...</td>\n",
       "      <td>...</td>\n",
       "      <td>...</td>\n",
       "      <td>...</td>\n",
       "      <td>...</td>\n",
       "      <td>...</td>\n",
       "    </tr>\n",
       "    <tr>\n",
       "      <th>family_income_Unknown</th>\n",
       "      <td>2031.0</td>\n",
       "      <td>0.009847</td>\n",
       "      <td>0.098768</td>\n",
       "      <td>0.000000</td>\n",
       "      <td>0.000000</td>\n",
       "      <td>0.000000</td>\n",
       "      <td>0.000000</td>\n",
       "      <td>1.000000</td>\n",
       "    </tr>\n",
       "    <tr>\n",
       "      <th>self_employed_Yes</th>\n",
       "      <td>2031.0</td>\n",
       "      <td>0.067947</td>\n",
       "      <td>0.251717</td>\n",
       "      <td>0.000000</td>\n",
       "      <td>0.000000</td>\n",
       "      <td>0.000000</td>\n",
       "      <td>0.000000</td>\n",
       "      <td>1.000000</td>\n",
       "    </tr>\n",
       "    <tr>\n",
       "      <th>self_employed_partner_Yes</th>\n",
       "      <td>2031.0</td>\n",
       "      <td>0.104382</td>\n",
       "      <td>0.305831</td>\n",
       "      <td>0.000000</td>\n",
       "      <td>0.000000</td>\n",
       "      <td>0.000000</td>\n",
       "      <td>0.000000</td>\n",
       "      <td>1.000000</td>\n",
       "    </tr>\n",
       "    <tr>\n",
       "      <th>gender_Male</th>\n",
       "      <td>2031.0</td>\n",
       "      <td>0.245692</td>\n",
       "      <td>0.430603</td>\n",
       "      <td>0.000000</td>\n",
       "      <td>0.000000</td>\n",
       "      <td>0.000000</td>\n",
       "      <td>0.000000</td>\n",
       "      <td>1.000000</td>\n",
       "    </tr>\n",
       "    <tr>\n",
       "      <th>gender_Unknown</th>\n",
       "      <td>2031.0</td>\n",
       "      <td>0.001969</td>\n",
       "      <td>0.044346</td>\n",
       "      <td>0.000000</td>\n",
       "      <td>0.000000</td>\n",
       "      <td>0.000000</td>\n",
       "      <td>0.000000</td>\n",
       "      <td>1.000000</td>\n",
       "    </tr>\n",
       "  </tbody>\n",
       "</table>\n",
       "<p>72 rows × 8 columns</p>\n",
       "</div>"
      ],
      "text/plain": [
       "                                  count      mean        std         min  \\\n",
       "year_last_moved                  2031.0 -1.101613  10.653608 -124.250000   \n",
       "Average_Credit_Card_Transaction  2031.0  1.030852   2.119272    0.000000   \n",
       "Balance_Transfer                 2031.0  0.465796   1.169489   -0.269041   \n",
       "Term_Deposit                     2031.0  0.833884   1.543035    0.000000   \n",
       "Life_Insurance                   2031.0  0.414091   1.018489   -0.338851   \n",
       "...                                 ...       ...        ...         ...   \n",
       "family_income_Unknown            2031.0  0.009847   0.098768    0.000000   \n",
       "self_employed_Yes                2031.0  0.067947   0.251717    0.000000   \n",
       "self_employed_partner_Yes        2031.0  0.104382   0.305831    0.000000   \n",
       "gender_Male                      2031.0  0.245692   0.430603    0.000000   \n",
       "gender_Unknown                   2031.0  0.001969   0.044346    0.000000   \n",
       "\n",
       "                                      25%       50%       75%        max  \n",
       "year_last_moved                 -0.562500  0.000000  0.375000   0.687500  \n",
       "Average_Credit_Card_Transaction  0.000000  0.000000  1.043015  16.647359  \n",
       "Balance_Transfer                -0.269041  0.030543  0.803585  12.944992  \n",
       "Term_Deposit                     0.000000  0.000000  1.042911  15.418962  \n",
       "Life_Insurance                  -0.338851  0.032459  0.745041   8.543076  \n",
       "...                                   ...       ...       ...        ...  \n",
       "family_income_Unknown            0.000000  0.000000  0.000000   1.000000  \n",
       "self_employed_Yes                0.000000  0.000000  0.000000   1.000000  \n",
       "self_employed_partner_Yes        0.000000  0.000000  0.000000   1.000000  \n",
       "gender_Male                      0.000000  0.000000  0.000000   1.000000  \n",
       "gender_Unknown                   0.000000  0.000000  0.000000   1.000000  \n",
       "\n",
       "[72 rows x 8 columns]"
      ]
     },
     "execution_count": 282,
     "metadata": {},
     "output_type": "execute_result"
    }
   ],
   "source": [
    "test_data1.describe().T"
   ]
  },
  {
   "cell_type": "markdown",
   "metadata": {},
   "source": [
    "# Predicting the Outputs"
   ]
  },
  {
   "cell_type": "code",
   "execution_count": 287,
   "metadata": {},
   "outputs": [],
   "source": [
    "Predicted_Output = pd.DataFrame(LogReg.predict(test_data1))"
   ]
  },
  {
   "cell_type": "code",
   "execution_count": 288,
   "metadata": {},
   "outputs": [
    {
     "data": {
      "text/plain": [
       "2    1871\n",
       "1     160\n",
       "dtype: int64"
      ]
     },
     "execution_count": 288,
     "metadata": {},
     "output_type": "execute_result"
    }
   ],
   "source": [
    "Predicted_Output.value_counts()"
   ]
  },
  {
   "cell_type": "code",
   "execution_count": 305,
   "metadata": {},
   "outputs": [],
   "source": [
    "FinalOP = pd.DataFrame(test_data['REF_NO'])"
   ]
  },
  {
   "cell_type": "code",
   "execution_count": 306,
   "metadata": {
    "scrolled": true
   },
   "outputs": [],
   "source": [
    "FinalOP['output'] = Predicted_Output"
   ]
  },
  {
   "cell_type": "code",
   "execution_count": 309,
   "metadata": {},
   "outputs": [
    {
     "data": {
      "text/plain": [
       "2    1871\n",
       "1     160\n",
       "Name: output, dtype: int64"
      ]
     },
     "execution_count": 309,
     "metadata": {},
     "output_type": "execute_result"
    }
   ],
   "source": [
    "FinalOP['output'].value_counts()"
   ]
  },
  {
   "cell_type": "code",
   "execution_count": 313,
   "metadata": {},
   "outputs": [],
   "source": [
    "FinalOP.to_csv('submission.csv', index=False,header=False)"
   ]
  },
  {
   "cell_type": "code",
   "execution_count": null,
   "metadata": {},
   "outputs": [],
   "source": []
  }
 ],
 "metadata": {
  "kernelspec": {
   "display_name": "Python 3",
   "language": "python",
   "name": "python3"
  },
  "language_info": {
   "codemirror_mode": {
    "name": "ipython",
    "version": 3
   },
   "file_extension": ".py",
   "mimetype": "text/x-python",
   "name": "python",
   "nbconvert_exporter": "python",
   "pygments_lexer": "ipython3",
   "version": "3.8.5"
  }
 },
 "nbformat": 4,
 "nbformat_minor": 4
}
